{
 "cells": [
  {
   "attachments": {},
   "cell_type": "markdown",
   "metadata": {},
   "source": [
    "For a list of strings in a format of \"category-courseID\", complete class_dictionary() that creates a dictionary of \"category\":\"set of unique courseIDs\".\n",
    "\n",
    "- Ex. classes = [\"computation-MSDS597\",\"statistics-MSDS504\",\"computation-MSDS501\", \"computation-MSDS501\", \"statistics-MSDS504\"], class_dictionary(classes) returns {'computation': {'MSDS501', 'MSDS597'}, 'statistics': {'MSDS504'}}"
   ]
  },
  {
   "cell_type": "code",
   "execution_count": 1,
   "metadata": {},
   "outputs": [],
   "source": [
    "def class_dictionary(classes: list) -> dict:\n",
    "    classes_dict = dict()\n",
    "    for cls in classes:\n",
    "        category, courseID = cls.split(\"-\")\n",
    "        if category not in classes_dict:\n",
    "            classes_dict[category] = set()\n",
    "        classes_dict[category].add(courseID)\n",
    "    return classes_dict"
   ]
  },
  {
   "cell_type": "code",
   "execution_count": 2,
   "metadata": {},
   "outputs": [
    {
     "data": {
      "text/plain": [
       "True"
      ]
     },
     "execution_count": 2,
     "metadata": {},
     "output_type": "execute_result"
    }
   ],
   "source": [
    "classes = [\"computation-MSDS597\",\n",
    "           \"statistics-MSDS504\", \n",
    "           \"computation-MSDS501\", \n",
    "           \"computation-MSDS501\", \n",
    "           \"statistics-MSDS504\"]\n",
    "class_dictionary(classes) == {'computation': {'MSDS501', 'MSDS597'}, 'statistics': {'MSDS504'}}"
   ]
  },
  {
   "attachments": {},
   "cell_type": "markdown",
   "metadata": {},
   "source": [
    "From the created dictionary, return all the \"computation\" courses in a list"
   ]
  },
  {
   "cell_type": "code",
   "execution_count": 3,
   "metadata": {},
   "outputs": [
    {
     "data": {
      "text/plain": [
       "['MSDS597', 'MSDS501']"
      ]
     },
     "execution_count": 3,
     "metadata": {},
     "output_type": "execute_result"
    }
   ],
   "source": [
    "cl_list = list(class_dictionary(classes)[\"computation\"])\n",
    "cl_list.reverse()\n",
    "cl_list"
   ]
  },
  {
   "cell_type": "code",
   "execution_count": null,
   "metadata": {},
   "outputs": [],
   "source": []
  }
 ],
 "metadata": {
  "kernelspec": {
   "display_name": "base",
   "language": "python",
   "name": "python3"
  },
  "language_info": {
   "codemirror_mode": {
    "name": "ipython",
    "version": 3
   },
   "file_extension": ".py",
   "mimetype": "text/x-python",
   "name": "python",
   "nbconvert_exporter": "python",
   "pygments_lexer": "ipython3",
   "version": "3.13.5"
  },
  "orig_nbformat": 4
 },
 "nbformat": 4,
 "nbformat_minor": 2
}
