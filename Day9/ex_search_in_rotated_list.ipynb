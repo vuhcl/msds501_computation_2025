{
 "cells": [
  {
   "cell_type": "code",
   "execution_count": null,
   "id": "3e734dba",
   "metadata": {},
   "outputs": [],
   "source": [
    "def search(nums, target):\n",
    "    n = len(nums)\n",
    "    left, right = 0, n - 1\n",
    "    while left <= right:\n",
    "        mid = left + (right - left) // 2\n",
    "        \n",
    "        if nums[mid] == target:\n",
    "            return mid\n",
    "\n",
    "        elif nums[mid] >= nums[left]: # mid's left is sorted\n",
    "            if target >= nums[left] and target < nums[mid]:\n",
    "                right = mid - 1\n",
    "            else: \n",
    "                left = mid + 1\n",
    "        else: # mid's right is sorted\n",
    "            if target <= nums[right] and target > nums[mid]:\n",
    "                left = mid + 1\n",
    "            else:\n",
    "                right = mid - 1\n",
    "    return -1"
   ]
  }
 ],
 "metadata": {
  "language_info": {
   "name": "python"
  }
 },
 "nbformat": 4,
 "nbformat_minor": 5
}
