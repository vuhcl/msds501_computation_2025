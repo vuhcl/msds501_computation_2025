{
 "cells": [
  {
   "cell_type": "markdown",
   "id": "f310e921",
   "metadata": {},
   "source": [
    "Two Pointers : one input, opposite ends"
   ]
  },
  {
   "cell_type": "code",
   "execution_count": null,
   "id": "7df4fdd7",
   "metadata": {},
   "outputs": [],
   "source": [
    "def two_pointers(arr):\n",
    "    left = ans = 0\n",
    "    right = len(arr) - 1\n",
    "\n",
    "    while left < right:\n",
    "        # do some logic here with left and right\n",
    "        if CONDITION:\n",
    "            left += 1\n",
    "        else:\n",
    "            right -= 1\n",
    "    \n",
    "    return ans\n"
   ]
  },
  {
   "cell_type": "markdown",
   "id": "4c60f5b9",
   "metadata": {},
   "source": [
    "Two pointers: two inputs, exhaust both"
   ]
  },
  {
   "cell_type": "code",
   "execution_count": null,
   "id": "b2699ce1",
   "metadata": {},
   "outputs": [],
   "source": [
    "def two_pointers_two_input(arr1, arr2):\n",
    "    i = j = ans = 0\n",
    "\n",
    "    while i < len(arr1) and j < len(arr2):\n",
    "        # do some logic here\n",
    "        if CONDITION:\n",
    "            i += 1\n",
    "        else:\n",
    "            j += 1\n",
    "    \n",
    "    while i < len(arr1):\n",
    "        # do logic\n",
    "        i += 1\n",
    "    \n",
    "    while j < len(arr2):\n",
    "        # do logic\n",
    "        j += 1\n",
    "    \n",
    "    return ans\n"
   ]
  },
  {
   "cell_type": "markdown",
   "id": "e1066190",
   "metadata": {},
   "source": [
    "Sliding Window"
   ]
  },
  {
   "cell_type": "code",
   "execution_count": null,
   "id": "645f3be6",
   "metadata": {},
   "outputs": [],
   "source": [
    "def sliding_window(arr):\n",
    "    left = ans = curr = 0\n",
    "\n",
    "    for right in range(len(arr)):\n",
    "        # do logic here to add arr[right] to curr\n",
    "\n",
    "        while WINDOW_CONDITION_BROKEN:\n",
    "            # remove arr[left] from curr\n",
    "            left += 1\n",
    "\n",
    "        # update ans\n",
    "    \n",
    "    return ans"
   ]
  },
  {
   "cell_type": "markdown",
   "id": "172fa1ee",
   "metadata": {},
   "source": [
    "Binary Search"
   ]
  },
  {
   "cell_type": "code",
   "execution_count": 1,
   "id": "4d8d8d88",
   "metadata": {},
   "outputs": [],
   "source": [
    "def binary_search(arr, target):\n",
    "    left = 0\n",
    "    right = len(arr) - 1\n",
    "    while left <= right:\n",
    "        mid = (left + right) // 2\n",
    "        if arr[mid] == target:\n",
    "            # do something\n",
    "            return\n",
    "        if arr[mid] > target:\n",
    "            right = mid - 1\n",
    "        else:\n",
    "            left = mid + 1\n",
    "    \n",
    "    # left is the insertion point\n",
    "    return left"
   ]
  },
  {
   "cell_type": "markdown",
   "id": "6de545d4",
   "metadata": {},
   "source": []
  }
 ],
 "metadata": {
  "kernelspec": {
   "display_name": "base",
   "language": "python",
   "name": "python3"
  },
  "language_info": {
   "codemirror_mode": {
    "name": "ipython",
    "version": 3
   },
   "file_extension": ".py",
   "mimetype": "text/x-python",
   "name": "python",
   "nbconvert_exporter": "python",
   "pygments_lexer": "ipython3",
   "version": "3.13.5"
  }
 },
 "nbformat": 4,
 "nbformat_minor": 5
}
