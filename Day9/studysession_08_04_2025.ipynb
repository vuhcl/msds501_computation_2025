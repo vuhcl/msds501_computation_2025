{
 "cells": [
  {
   "cell_type": "code",
   "execution_count": 6,
   "id": "8fc0d083",
   "metadata": {},
   "outputs": [],
   "source": [
    "class Animal:\n",
    "    def __init__(self, name, no_legs):\n",
    "        self._name = name.lower()\n",
    "        self.legs = no_legs\n",
    "        self.__move = True\n",
    "\n",
    "    def estimate_speed(self, unit):\n",
    "        if self.legs and self.__move == 0:\n",
    "            return \"slow\" + unit\n",
    "        else:\n",
    "            return \"not slow\" + unit\n",
    "        \n",
    "    \n",
    "    def reutrn_move(self):\n",
    "        return self.__move\n",
    "        "
   ]
  },
  {
   "cell_type": "code",
   "execution_count": 7,
   "id": "d61a358f",
   "metadata": {},
   "outputs": [
    {
     "name": "stdout",
     "output_type": "stream",
     "text": [
      "Help on class Animal in module __main__:\n",
      "\n",
      "class Animal(builtins.object)\n",
      " |  Animal(name, no_legs)\n",
      " |\n",
      " |  Methods defined here:\n",
      " |\n",
      " |  __init__(self, name, no_legs)\n",
      " |      Initialize self.  See help(type(self)) for accurate signature.\n",
      " |\n",
      " |  estimate_speed(self, unit)\n",
      " |\n",
      " |  reutrn_move(self)\n",
      " |\n",
      " |  ----------------------------------------------------------------------\n",
      " |  Data descriptors defined here:\n",
      " |\n",
      " |  __dict__\n",
      " |      dictionary for instance variables\n",
      " |\n",
      " |  __weakref__\n",
      " |      list of weak references to the object\n",
      "\n"
     ]
    }
   ],
   "source": [
    "help(Animal)"
   ]
  },
  {
   "cell_type": "markdown",
   "id": "0f79f561",
   "metadata": {},
   "source": [
    "Create `lizzard` object where name is lizzard and no_legs is 4"
   ]
  },
  {
   "cell_type": "code",
   "execution_count": 8,
   "id": "b01a098f",
   "metadata": {},
   "outputs": [],
   "source": [
    "lizzard = Animal(\"lizzard\", 4)"
   ]
  },
  {
   "cell_type": "markdown",
   "id": "1e240815",
   "metadata": {},
   "source": [
    "How to call estimate_speed() on the `lizzard` object?"
   ]
  },
  {
   "cell_type": "code",
   "execution_count": 9,
   "id": "3f19ddae",
   "metadata": {},
   "outputs": [
    {
     "data": {
      "text/plain": [
       "'not slowm/h'"
      ]
     },
     "execution_count": 9,
     "metadata": {},
     "output_type": "execute_result"
    }
   ],
   "source": [
    "lizzard.estimate_speed(\"m/h\")"
   ]
  },
  {
   "cell_type": "markdown",
   "id": "d9ce2b26",
   "metadata": {},
   "source": [
    "Can you call/modify public, protected or private variables outside of class?"
   ]
  },
  {
   "cell_type": "code",
   "execution_count": 46,
   "id": "0e90a911",
   "metadata": {},
   "outputs": [
    {
     "ename": "AttributeError",
     "evalue": "'Animal' object has no attribute '__move'",
     "output_type": "error",
     "traceback": [
      "\u001b[0;31m---------------------------------------------------------------------------\u001b[0m",
      "\u001b[0;31mAttributeError\u001b[0m                            Traceback (most recent call last)",
      "Cell \u001b[0;32mIn[46], line 1\u001b[0m\n\u001b[0;32m----> 1\u001b[0m lizzard\u001b[38;5;241m.\u001b[39m__move\n",
      "\u001b[0;31mAttributeError\u001b[0m: 'Animal' object has no attribute '__move'"
     ]
    }
   ],
   "source": [
    "lizzard.__move"
   ]
  },
  {
   "cell_type": "markdown",
   "id": "047c4d88",
   "metadata": {},
   "source": [
    "Create a subclass `Mamal` that inherits from `Animal`.\n",
    "During initialization, it accepts `live_birth` variable (`True` or `False`) and assign it to its attribute of the same name, `live_birth`.\n",
    "In addition, create a method called `return_summary()` that returns  a string in the following format: \n",
    "\n",
    "`name: xxx, legs: xxx, live_birth: xxx`"
   ]
  },
  {
   "cell_type": "code",
   "execution_count": 47,
   "id": "406c590b",
   "metadata": {},
   "outputs": [],
   "source": [
    "class Mammal(Animal):\n",
    "    def __init__(self, name, no_legs, live_birth):\n",
    "        # super().__init__(name, no_legs)\n",
    "        self.live_birth = live_birth\n",
    "    def return_summary(self):\n",
    "        return f\"name: {self._name}, legs: {self.legs}, live_birth: {self.live_birth}\""
   ]
  },
  {
   "cell_type": "code",
   "execution_count": 48,
   "id": "eaea5f20",
   "metadata": {},
   "outputs": [
    {
     "data": {
      "text/plain": [
       "mappingproxy({'__module__': '__main__',\n",
       "              '__firstlineno__': 1,\n",
       "              '__init__': <function __main__.Mammal.__init__(self, name, no_legs, live_birth)>,\n",
       "              'return_summary': <function __main__.Mammal.return_summary(self)>,\n",
       "              '__static_attributes__': ('live_birth',),\n",
       "              '__doc__': None})"
      ]
     },
     "execution_count": 48,
     "metadata": {},
     "output_type": "execute_result"
    }
   ],
   "source": [
    "Mammal.__dict__"
   ]
  },
  {
   "cell_type": "code",
   "execution_count": 49,
   "id": "18b3c386",
   "metadata": {},
   "outputs": [],
   "source": [
    "rabbit = Mammal(\"rabbit\", 4, True)"
   ]
  },
  {
   "cell_type": "code",
   "execution_count": 50,
   "id": "28964760",
   "metadata": {},
   "outputs": [
    {
     "ename": "AttributeError",
     "evalue": "'Mammal' object has no attribute '_name'",
     "output_type": "error",
     "traceback": [
      "\u001b[0;31m---------------------------------------------------------------------------\u001b[0m",
      "\u001b[0;31mAttributeError\u001b[0m                            Traceback (most recent call last)",
      "Cell \u001b[0;32mIn[50], line 1\u001b[0m\n\u001b[0;32m----> 1\u001b[0m rabbit\u001b[38;5;241m.\u001b[39mreturn_summary()\n",
      "Cell \u001b[0;32mIn[47], line 6\u001b[0m, in \u001b[0;36mMammal.return_summary\u001b[0;34m(self)\u001b[0m\n\u001b[1;32m      5\u001b[0m \u001b[38;5;28;01mdef\u001b[39;00m\u001b[38;5;250m \u001b[39m\u001b[38;5;21mreturn_summary\u001b[39m(\u001b[38;5;28mself\u001b[39m):\n\u001b[0;32m----> 6\u001b[0m     \u001b[38;5;28;01mreturn\u001b[39;00m \u001b[38;5;124mf\u001b[39m\u001b[38;5;124m\"\u001b[39m\u001b[38;5;124mname: \u001b[39m\u001b[38;5;132;01m{\u001b[39;00m\u001b[38;5;28mself\u001b[39m\u001b[38;5;241m.\u001b[39m_name\u001b[38;5;132;01m}\u001b[39;00m\u001b[38;5;124m, legs: \u001b[39m\u001b[38;5;132;01m{\u001b[39;00m\u001b[38;5;28mself\u001b[39m\u001b[38;5;241m.\u001b[39mlegs\u001b[38;5;132;01m}\u001b[39;00m\u001b[38;5;124m, live_birth: \u001b[39m\u001b[38;5;132;01m{\u001b[39;00m\u001b[38;5;28mself\u001b[39m\u001b[38;5;241m.\u001b[39mlive_birth\u001b[38;5;132;01m}\u001b[39;00m\u001b[38;5;124m\"\u001b[39m\n",
      "\u001b[0;31mAttributeError\u001b[0m: 'Mammal' object has no attribute '_name'"
     ]
    }
   ],
   "source": [
    "rabbit.return_summary()"
   ]
  },
  {
   "cell_type": "markdown",
   "id": "4000ec08",
   "metadata": {},
   "source": [
    "Read data from `countries.tsv` and extract the 1st and 2nd columns to create `countries.json`.\n",
    "- It should have a format of { two_letter_name : full_name }"
   ]
  },
  {
   "cell_type": "code",
   "execution_count": 28,
   "id": "1ad1c5d8",
   "metadata": {},
   "outputs": [],
   "source": [
    "import csv\n",
    "with open(\"../Data/countries.tsv\", \"r\") as f:\n",
    "    data = csv.reader(f, delimiter='\\t')\n",
    "    country_dict = dict()\n",
    "\n",
    "    for row in data:\n",
    "        country_dict[row[0]] = row[1]\n"
   ]
  },
  {
   "cell_type": "code",
   "execution_count": 31,
   "id": "0f93c7b3",
   "metadata": {},
   "outputs": [
    {
     "data": {
      "text/plain": [
       "'United Arab Emirates'"
      ]
     },
     "execution_count": 31,
     "metadata": {},
     "output_type": "execute_result"
    }
   ],
   "source": [
    "country_dict[\"AE\"]"
   ]
  },
  {
   "cell_type": "code",
   "execution_count": 17,
   "id": "3092d537",
   "metadata": {},
   "outputs": [],
   "source": [
    "import  json\n",
    "with open(\"countries.json\", \"w\") as f:\n",
    "    json.dump(country_dict, f)"
   ]
  },
  {
   "cell_type": "markdown",
   "id": "7df0866a",
   "metadata": {},
   "source": [
    "Read data from `epa_air_quality.pickle` and return the unique elements of station IDs (4th column).\n"
   ]
  },
  {
   "cell_type": "code",
   "execution_count": 19,
   "id": "899d1aa7",
   "metadata": {},
   "outputs": [],
   "source": [
    "import pickle\n",
    "with open(\"../Data/epa_air_quality.pickle\", \"rb\") as f:\n",
    "    data = pickle.load(f)\n",
    "    station_set = set()\n",
    "    for row in data:\n",
    "        station_set.add(row[3])"
   ]
  },
  {
   "cell_type": "code",
   "execution_count": 21,
   "id": "c37848d4",
   "metadata": {},
   "outputs": [
    {
     "data": {
      "text/plain": [
       "{60070008,\n",
       " 60090001,\n",
       " 60111002,\n",
       " 60170011,\n",
       " 60190007,\n",
       " 60190011,\n",
       " 60190500,\n",
       " 60195001,\n",
       " 60210003,\n",
       " 60231004,\n",
       " 60250005,\n",
       " 60250007,\n",
       " 60251003,\n",
       " 60254003,\n",
       " 60254004,\n",
       " 60270002,\n",
       " 60270004,\n",
       " 60270022,\n",
       " 60270023,\n",
       " 60270025,\n",
       " 60270026,\n",
       " 60270028,\n",
       " 60270029,\n",
       " 60270030,\n",
       " 60271001,\n",
       " 60271003,\n",
       " 60271018,\n",
       " 60271023,\n",
       " 60271028,\n",
       " 60290010,\n",
       " 60290011,\n",
       " 60290014,\n",
       " 60290017,\n",
       " 60290018,\n",
       " 60290232,\n",
       " 60310004,\n",
       " 60310500,\n",
       " 60311004,\n",
       " 60333002,\n",
       " 60333010,\n",
       " 60333011,\n",
       " 60370002,\n",
       " 60370016,\n",
       " 60371103,\n",
       " 60374004,\n",
       " 60374006,\n",
       " 60375005,\n",
       " 60376012,\n",
       " 60379033,\n",
       " 60392010,\n",
       " 60431001,\n",
       " 60450010,\n",
       " 60472510,\n",
       " 60510001,\n",
       " 60510005,\n",
       " 60510011,\n",
       " 60530008,\n",
       " 60590007,\n",
       " 60592022,\n",
       " 60610006,\n",
       " 60650003,\n",
       " 60650012,\n",
       " 60650500,\n",
       " 60651999,\n",
       " 60652002,\n",
       " 60652005,\n",
       " 60655001,\n",
       " 60656001,\n",
       " 60658001,\n",
       " 60658005,\n",
       " 60659001,\n",
       " 60670002,\n",
       " 60670006,\n",
       " 60670010,\n",
       " 60670284,\n",
       " 60690002,\n",
       " 60710001,\n",
       " 60710005,\n",
       " 60710306,\n",
       " 60711004,\n",
       " 60711234,\n",
       " 60712002,\n",
       " 60714001,\n",
       " 60714003,\n",
       " 60719004,\n",
       " 60730001,\n",
       " 60731014,\n",
       " 60731022,\n",
       " 60771002,\n",
       " 60772010,\n",
       " 60773005,\n",
       " 60790005,\n",
       " 60792004,\n",
       " 60792006,\n",
       " 60792007,\n",
       " 60794002,\n",
       " 60798002,\n",
       " 60799001,\n",
       " 60830011,\n",
       " 60831008,\n",
       " 60831025,\n",
       " 60832004,\n",
       " 60832011,\n",
       " 60890004,\n",
       " 60890007,\n",
       " 60890008,\n",
       " 60970001,\n",
       " 60970002,\n",
       " 60973002,\n",
       " 60990005,\n",
       " 60990006,\n",
       " 61010003,\n",
       " 61030007,\n",
       " 61072002,\n",
       " 61112002,\n",
       " 61113001,\n",
       " 61131003,\n",
       " 61132001}"
      ]
     },
     "execution_count": 21,
     "metadata": {},
     "output_type": "execute_result"
    }
   ],
   "source": [
    "station_set"
   ]
  },
  {
   "cell_type": "code",
   "execution_count": 23,
   "id": "2f6a3f01",
   "metadata": {},
   "outputs": [],
   "source": [
    "with open(\"station_set.pickle\",\"wb\") as f:\n",
    "    pickle.dump(station_set, f)"
   ]
  },
  {
   "cell_type": "code",
   "execution_count": 27,
   "id": "ce8b4eea",
   "metadata": {},
   "outputs": [],
   "source": [
    "with open(\"station_set.pickle\",\"rb\") as f:\n",
    "    data = pickle.load(f)\n",
    "    output = list(data)\n",
    "    output.sort()\n",
    "    \n",
    "with open(\"station_list.csv\", \"w\") as f:\n",
    "    csv_writer = csv.writer(f)\n",
    "    csv_writer.writerow(output)"
   ]
  },
  {
   "cell_type": "code",
   "execution_count": null,
   "id": "7dee72fb",
   "metadata": {},
   "outputs": [],
   "source": []
  }
 ],
 "metadata": {
  "kernelspec": {
   "display_name": "base",
   "language": "python",
   "name": "python3"
  },
  "language_info": {
   "codemirror_mode": {
    "name": "ipython",
    "version": 3
   },
   "file_extension": ".py",
   "mimetype": "text/x-python",
   "name": "python",
   "nbconvert_exporter": "python",
   "pygments_lexer": "ipython3",
   "version": "3.13.5"
  }
 },
 "nbformat": 4,
 "nbformat_minor": 5
}
