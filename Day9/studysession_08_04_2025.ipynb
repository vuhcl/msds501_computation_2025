{
 "cells": [
  {
   "cell_type": "code",
   "execution_count": null,
   "id": "8fc0d083",
   "metadata": {},
   "outputs": [],
   "source": [
    "class Animal:\n",
    "    def __init__(self, name, no_legs):\n",
    "        self._name = name\n",
    "        self.legs = no_legs\n",
    "        self.__move = True\n",
    "\n",
    "    def estimate_speed(self):\n",
    "        if self.legs == 0:\n",
    "            return \"slow\"\n",
    "        else:\n",
    "            return \"not slow\""
   ]
  },
  {
   "cell_type": "markdown",
   "id": "0f79f561",
   "metadata": {},
   "source": [
    "Create `lizzard` object where name is lizzard and no_legs is 4"
   ]
  },
  {
   "cell_type": "code",
   "execution_count": null,
   "id": "b01a098f",
   "metadata": {},
   "outputs": [],
   "source": []
  },
  {
   "cell_type": "markdown",
   "id": "1e240815",
   "metadata": {},
   "source": [
    "How to call estimate_spped() on the `lizzard` object?"
   ]
  },
  {
   "cell_type": "markdown",
   "id": "7cd0a2be",
   "metadata": {},
   "source": []
  },
  {
   "cell_type": "markdown",
   "id": "d9ce2b26",
   "metadata": {},
   "source": [
    "Can you call/modify public, protected or private variables outside of class?"
   ]
  },
  {
   "cell_type": "code",
   "execution_count": null,
   "id": "0e90a911",
   "metadata": {},
   "outputs": [],
   "source": []
  },
  {
   "cell_type": "markdown",
   "id": "047c4d88",
   "metadata": {},
   "source": [
    "Create a subclass `Mamal` that inherits from `Animal`.\n",
    "During initialization, it accepts `live_birth` variable (`True` or `False`) and assign it to its attribute of the same name, `live_birth`.\n",
    "In addition, create a method called `return_summary()` that returns  a string in the following format: \n",
    "\n",
    "`name: xxx, legs: xxx, live_birth: xxx`"
   ]
  },
  {
   "cell_type": "code",
   "execution_count": null,
   "id": "406c590b",
   "metadata": {},
   "outputs": [],
   "source": []
  },
  {
   "cell_type": "markdown",
   "id": "4000ec08",
   "metadata": {},
   "source": [
    "Read data from `countries.tsv` and extract the 1st and 2nd columns to create `countries.json`.\n",
    "- It should have a format of { two_letter_name : full_name }"
   ]
  },
  {
   "cell_type": "code",
   "execution_count": null,
   "id": "1ad1c5d8",
   "metadata": {},
   "outputs": [],
   "source": []
  },
  {
   "cell_type": "markdown",
   "id": "7df0866a",
   "metadata": {},
   "source": [
    "Read data from `epa_air_quality.pickle` and return the unique elements of station IDs (4th column).\n"
   ]
  },
  {
   "cell_type": "code",
   "execution_count": null,
   "id": "899d1aa7",
   "metadata": {},
   "outputs": [],
   "source": []
  }
 ],
 "metadata": {
  "kernelspec": {
   "display_name": "base",
   "language": "python",
   "name": "python3"
  },
  "language_info": {
   "codemirror_mode": {
    "name": "ipython",
    "version": 3
   },
   "file_extension": ".py",
   "mimetype": "text/x-python",
   "name": "python",
   "nbconvert_exporter": "python",
   "pygments_lexer": "ipython3",
   "version": "3.13.5"
  }
 },
 "nbformat": 4,
 "nbformat_minor": 5
}
