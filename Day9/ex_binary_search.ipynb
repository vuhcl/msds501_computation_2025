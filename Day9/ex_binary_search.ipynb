{
 "cells": [
  {
   "cell_type": "code",
   "execution_count": 2,
   "id": "8ff6fef0",
   "metadata": {},
   "outputs": [],
   "source": [
    "def binary_search(nums: list, target: int):\n",
    "        left, right = 0, len(nums)-1\n",
    "        \n",
    "        if(target < nums[left] or target > nums[right]):\n",
    "            return -1\n",
    "        \n",
    "        while(left <= right):\n",
    "            mid = (left + right)//2\n",
    "            if(nums[mid] == target):\n",
    "                return mid\n",
    "            elif(nums[mid] < target):\n",
    "                left = mid + 1\n",
    "            else:\n",
    "                right = mid - 1\n",
    "\n",
    "        return -1"
   ]
  },
  {
   "cell_type": "code",
   "execution_count": null,
   "id": "7114f8c4",
   "metadata": {},
   "outputs": [
    {
     "data": {
      "text/plain": [
       "4"
      ]
     },
     "execution_count": 4,
     "metadata": {},
     "output_type": "execute_result"
    }
   ],
   "source": [
    "nums = [-1,0,3,5,9,12]\n",
    "target = 9\n",
    "binary_search(nums, target) # returns 4"
   ]
  },
  {
   "cell_type": "code",
   "execution_count": null,
   "id": "677f7e34",
   "metadata": {},
   "outputs": [
    {
     "data": {
      "text/plain": [
       "-1"
      ]
     },
     "execution_count": 5,
     "metadata": {},
     "output_type": "execute_result"
    }
   ],
   "source": [
    "nums = [-1,0,3,5,9,12]\n",
    "target = 2\n",
    "binary_search(nums, target) # returns -1"
   ]
  },
  {
   "cell_type": "code",
   "execution_count": null,
   "id": "1cec35d5",
   "metadata": {},
   "outputs": [],
   "source": []
  }
 ],
 "metadata": {
  "kernelspec": {
   "display_name": "base",
   "language": "python",
   "name": "python3"
  },
  "language_info": {
   "codemirror_mode": {
    "name": "ipython",
    "version": 3
   },
   "file_extension": ".py",
   "mimetype": "text/x-python",
   "name": "python",
   "nbconvert_exporter": "python",
   "pygments_lexer": "ipython3",
   "version": "3.13.5"
  }
 },
 "nbformat": 4,
 "nbformat_minor": 5
}
