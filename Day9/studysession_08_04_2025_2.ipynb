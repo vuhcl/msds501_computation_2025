{
 "cells": [
  {
   "cell_type": "code",
   "execution_count": 1,
   "id": "e71303ad",
   "metadata": {},
   "outputs": [],
   "source": [
    "import json\n",
    "file = \"/Users/dwoodbridge/Class/2025_MSDS501/Examples/msds501_computation_2025/Data/nhis.json\""
   ]
  },
  {
   "cell_type": "code",
   "execution_count": 24,
   "id": "c2b9179c",
   "metadata": {},
   "outputs": [],
   "source": [
    "def filter_by_year(file:str, year:int):\n",
    "    with open(file, \"r\") as f:\n",
    "        data = json.load(f)\n",
    "        columns = data[\"meta\"][\"view\"][\"columns\"]\n",
    "        col_list = list()\n",
    "        for d in columns:\n",
    "            col_list.append(d[\"name\"])\n",
    "        \n",
    "        data_list = list()\n",
    "        for row in data[\"data\"]:\n",
    "            if row[-1] == str(year):\n",
    "                data_list.append(row)\n",
    "    return {\"columns\":col_list, f\"data_{year}\":data_list}"
   ]
  },
  {
   "cell_type": "code",
   "execution_count": 25,
   "id": "ff46a19c",
   "metadata": {},
   "outputs": [],
   "source": [
    "output = filter_by_year(file, 2019)\n",
    "with open(\"data_2019.json\", \"w\") as f:\n",
    "    json.dump(output, f)"
   ]
  },
  {
   "cell_type": "code",
   "execution_count": 27,
   "id": "2375f85b",
   "metadata": {},
   "outputs": [],
   "source": [
    "line = '{\"data\":2019 }'\n",
    "with open(\"data.json\", \"w\") as f:\n",
    "    data = json.loads(line)"
   ]
  },
  {
   "cell_type": "code",
   "execution_count": 29,
   "id": "58a90267",
   "metadata": {},
   "outputs": [
    {
     "data": {
      "text/plain": [
       "dict"
      ]
     },
     "execution_count": 29,
     "metadata": {},
     "output_type": "execute_result"
    }
   ],
   "source": [
    "type(data)"
   ]
  },
  {
   "cell_type": "code",
   "execution_count": 35,
   "id": "1b241737",
   "metadata": {},
   "outputs": [
    {
     "data": {
      "text/plain": [
       "'{\"key\": 1234, \"key2\": 345}'"
      ]
     },
     "execution_count": 35,
     "metadata": {},
     "output_type": "execute_result"
    }
   ],
   "source": [
    "output = {\"key\" : 1234, \"key2\" : 345}\n",
    "\n",
    "json.dumps(output)"
   ]
  },
  {
   "cell_type": "code",
   "execution_count": null,
   "id": "185bde8a",
   "metadata": {},
   "outputs": [],
   "source": [
    "nums = [0,0,1,2,3,4,2,2,3,3,4]\n",
    "[0]\n",
    "[0]\n",
    "[0,1]\n",
    "[0,1]\n",
    "[0,1]\n",
    "[0,1,2]"
   ]
  },
  {
   "cell_type": "code",
   "execution_count": 38,
   "id": "04f63822",
   "metadata": {},
   "outputs": [
    {
     "data": {
      "text/plain": [
       "5"
      ]
     },
     "execution_count": 38,
     "metadata": {},
     "output_type": "execute_result"
    }
   ],
   "source": [
    "def remove_duplicate(nums):\n",
    "    idx = 1 # new position for unique element\n",
    "    for i in range(1, len(nums)):\n",
    "        if nums[i] != nums[i-1]:\n",
    "            nums[idx] = nums[i]\n",
    "            idx += 1\n",
    "    return idx\n",
    "\n",
    "nums = [0,1,2,2,3,3,4]\n",
    "remove_duplicate(nums)"
   ]
  },
  {
   "cell_type": "code",
   "execution_count": 39,
   "id": "256d27e5",
   "metadata": {},
   "outputs": [
    {
     "data": {
      "text/plain": [
       "[0, 1, 2, 3, 4, 3, 4]"
      ]
     },
     "execution_count": 39,
     "metadata": {},
     "output_type": "execute_result"
    }
   ],
   "source": [
    "nums"
   ]
  },
  {
   "cell_type": "code",
   "execution_count": null,
   "id": "3c09b0e5",
   "metadata": {},
   "outputs": [],
   "source": [
    "def pivot_index(nums):\n",
    "    total_sum = sum(nums)\n",
    "    left_sum = 0 \n",
    "    right_sum = total_sum\n",
    "    for i in range(0, len(nums)):\n",
    "        right_sum = right_sum - nums[i]\n",
    "        if (left_sum == right_sum):\n",
    "            return i\n",
    "        left_sum = left_sum + nums[i]\n",
    "    return -1"
   ]
  },
  {
   "cell_type": "code",
   "execution_count": 43,
   "id": "a283bc72",
   "metadata": {},
   "outputs": [
    {
     "data": {
      "text/plain": [
       "3"
      ]
     },
     "execution_count": 43,
     "metadata": {},
     "output_type": "execute_result"
    }
   ],
   "source": [
    "nums = [1,7,3,6,5,6]\n",
    "pivot_index(nums)\n",
    "\n",
    "# i = 0, left_sum = 0, right_sum = total_sum - 1\n",
    "# i = 1, left_sum = 1, right_sum = right_sum - 7 \n",
    "# i = 2, left_sum = 1 + 7, right_sum = right_sum - 3"
   ]
  },
  {
   "cell_type": "code",
   "execution_count": null,
   "id": "14c70a65",
   "metadata": {},
   "outputs": [],
   "source": [
    "def pivot_index(nums):\n",
    "    for i in range(0, len(nums)):\n",
    "        right_sum = sum(nums[i+1: ])\n",
    "        left_sum = sum(nums[:i])\n",
    "        if right_sum == left_sum:\n",
    "            return i"
   ]
  },
  {
   "cell_type": "code",
   "execution_count": null,
   "id": "397ba0f6",
   "metadata": {},
   "outputs": [
    {
     "name": "stdout",
     "output_type": "stream",
     "text": [
      "=========\n",
      "27\n",
      "0\n",
      "=========\n",
      "=========\n",
      "20\n",
      "1\n",
      "=========\n",
      "=========\n",
      "17\n",
      "8\n",
      "=========\n",
      "=========\n",
      "11\n",
      "11\n",
      "=========\n"
     ]
    },
    {
     "data": {
      "text/plain": [
       "3"
      ]
     },
     "execution_count": 47,
     "metadata": {},
     "output_type": "execute_result"
    }
   ],
   "source": [
    "nums = [1,7,3,6,5,6]\n",
    "pivot_index(nums)"
   ]
  },
  {
   "cell_type": "code",
   "execution_count": 51,
   "id": "584e8002",
   "metadata": {},
   "outputs": [
    {
     "data": {
      "text/plain": [
       "4"
      ]
     },
     "execution_count": 51,
     "metadata": {},
     "output_type": "execute_result"
    }
   ],
   "source": [
    "nums = [-1,0,3,5,9,12]\n",
    "target = 9\n",
    "\n",
    "def binary_search(nums, target):\n",
    "    for i in range(0, len(nums)):\n",
    "        if target == nums[i]:\n",
    "            return i\n",
    "    return -1\n",
    "\n",
    "binary_search(nums, target)\n"
   ]
  },
  {
   "cell_type": "code",
   "execution_count": 63,
   "id": "1abbd887",
   "metadata": {},
   "outputs": [],
   "source": [
    "class Animal:\n",
    "    def __init__(self, name):\n",
    "        self.name = name\n",
    "    def fly(self):\n",
    "        self.can_fly = True\n",
    "        self.new = True"
   ]
  },
  {
   "cell_type": "code",
   "execution_count": 64,
   "id": "93b055b2",
   "metadata": {},
   "outputs": [
    {
     "data": {
      "text/plain": [
       "'chicken'"
      ]
     },
     "execution_count": 64,
     "metadata": {},
     "output_type": "execute_result"
    }
   ],
   "source": [
    "cat = Animal(\"chicken\")\n",
    "cat.name"
   ]
  },
  {
   "cell_type": "code",
   "execution_count": null,
   "id": "bf3b5c48",
   "metadata": {},
   "outputs": [
    {
     "ename": "AttributeError",
     "evalue": "'Animal' object has no attribute 'can_fly'",
     "output_type": "error",
     "traceback": [
      "\u001b[0;31m---------------------------------------------------------------------------\u001b[0m",
      "\u001b[0;31mAttributeError\u001b[0m                            Traceback (most recent call last)",
      "Cell \u001b[0;32mIn[65], line 1\u001b[0m\n\u001b[0;32m----> 1\u001b[0m cat\u001b[38;5;241m.\u001b[39mcan_fly\n",
      "\u001b[0;31mAttributeError\u001b[0m: 'Animal' object has no attribute 'can_fly'"
     ]
    }
   ],
   "source": [
    "cat"
   ]
  },
  {
   "cell_type": "code",
   "execution_count": 66,
   "id": "2f1d54eb",
   "metadata": {},
   "outputs": [],
   "source": [
    "cat.fly()"
   ]
  },
  {
   "cell_type": "code",
   "execution_count": 67,
   "id": "67a07691",
   "metadata": {},
   "outputs": [
    {
     "data": {
      "text/plain": [
       "True"
      ]
     },
     "execution_count": 67,
     "metadata": {},
     "output_type": "execute_result"
    }
   ],
   "source": [
    "cat.new"
   ]
  },
  {
   "cell_type": "code",
   "execution_count": 93,
   "id": "a3154228",
   "metadata": {},
   "outputs": [],
   "source": [
    "class Human():\n",
    "    def __init__(self, first_val, last_val):\n",
    "        self.firstname = first_val\n",
    "        self.lastname = last_val\n",
    "\n",
    "    def introduce (self, hobby):\n",
    "        self.hobby = hobby\n",
    "        print(f'My name is {self.firstname} {self.lastname } I love to {self.hobby}.')"
   ]
  },
  {
   "cell_type": "code",
   "execution_count": 94,
   "id": "be50387a",
   "metadata": {},
   "outputs": [],
   "source": [
    "curry = Human(\"stephen\", \"curry\")"
   ]
  },
  {
   "cell_type": "code",
   "execution_count": 95,
   "id": "bc5ecc4a",
   "metadata": {},
   "outputs": [
    {
     "name": "stdout",
     "output_type": "stream",
     "text": [
      "My name is stephen curry I love to golf.\n"
     ]
    }
   ],
   "source": [
    "curry.introduce(\"golf\")"
   ]
  },
  {
   "cell_type": "code",
   "execution_count": 88,
   "id": "fa81c0a3",
   "metadata": {},
   "outputs": [
    {
     "data": {
      "text/plain": [
       "'golf'"
      ]
     },
     "execution_count": 88,
     "metadata": {},
     "output_type": "execute_result"
    }
   ],
   "source": [
    "curry.hobby"
   ]
  },
  {
   "cell_type": "code",
   "execution_count": null,
   "id": "2255f4bb",
   "metadata": {},
   "outputs": [],
   "source": []
  }
 ],
 "metadata": {
  "kernelspec": {
   "display_name": "base",
   "language": "python",
   "name": "python3"
  },
  "language_info": {
   "codemirror_mode": {
    "name": "ipython",
    "version": 3
   },
   "file_extension": ".py",
   "mimetype": "text/x-python",
   "name": "python",
   "nbconvert_exporter": "python",
   "pygments_lexer": "ipython3",
   "version": "3.13.5"
  }
 },
 "nbformat": 4,
 "nbformat_minor": 5
}
