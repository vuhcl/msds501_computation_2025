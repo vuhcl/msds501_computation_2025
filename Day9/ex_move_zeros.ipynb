{
 "cells": [
  {
   "cell_type": "code",
   "execution_count": null,
   "id": "2127ee92",
   "metadata": {},
   "outputs": [],
   "source": [
    "def moveZeroes(nums)-> None:\n",
    "    \"\"\"\n",
    "    Do not return anything, modify nums in-place instead.\n",
    "    \"\"\"\n",
    "    non_zero = 0  # Pointer that tracks the next non-zero element\n",
    "\n",
    "    # Move all non-zero elements to the front using a pointer, i\n",
    "    for i in range(len(nums)): \n",
    "        if nums[i] != 0:\n",
    "            nums[non_zero] = nums[i]\n",
    "            non_zero += 1\n",
    "\n",
    "    # Fill the rest of the array with zeros\n",
    "    for i in range(non_zero, len(nums)):\n",
    "        nums[i] = 0\n"
   ]
  },
  {
   "cell_type": "code",
   "execution_count": null,
   "id": "74626226",
   "metadata": {},
   "outputs": [
    {
     "data": {
      "text/plain": [
       "[1, 3, 12, 0, 0]"
      ]
     },
     "execution_count": 3,
     "metadata": {},
     "output_type": "execute_result"
    }
   ],
   "source": [
    "nums = [0,1,0,3,12] \n",
    "moveZeroes(nums) # nums becomes [1, 3, 12, 0, 0]\n",
    "nums"
   ]
  },
  {
   "cell_type": "code",
   "execution_count": null,
   "id": "64cdac42",
   "metadata": {},
   "outputs": [],
   "source": [
    "nums = [0]\n",
    "moveZeroes(nums) # nums becomes [0]\n",
    "nums"
   ]
  },
  {
   "cell_type": "code",
   "execution_count": null,
   "id": "cffb4f68",
   "metadata": {},
   "outputs": [],
   "source": []
  }
 ],
 "metadata": {
  "kernelspec": {
   "display_name": "base",
   "language": "python",
   "name": "python3"
  },
  "language_info": {
   "codemirror_mode": {
    "name": "ipython",
    "version": 3
   },
   "file_extension": ".py",
   "mimetype": "text/x-python",
   "name": "python",
   "nbconvert_exporter": "python",
   "pygments_lexer": "ipython3",
   "version": "3.13.5"
  }
 },
 "nbformat": 4,
 "nbformat_minor": 5
}
