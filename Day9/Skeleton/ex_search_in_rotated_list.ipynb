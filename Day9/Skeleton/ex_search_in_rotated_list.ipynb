{
 "cells": [
  {
   "cell_type": "code",
   "execution_count": null,
   "id": "3e734dba",
   "metadata": {},
   "outputs": [],
   "source": [
    "def search(nums, target):\n",
    "    "
   ]
  }
 ],
 "metadata": {
  "language_info": {
   "name": "python"
  }
 },
 "nbformat": 4,
 "nbformat_minor": 5
}
