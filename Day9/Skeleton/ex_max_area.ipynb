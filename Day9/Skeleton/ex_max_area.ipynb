{
 "cells": [
  {
   "cell_type": "markdown",
   "id": "a0e632a8",
   "metadata": {},
   "source": [
    "# Max Area\n",
    "\n",
    "You are given an integer array height of length `n`. There are `n` vertical lines drawn such that the two endpoints of the `i`th line are `(i, 0)` and `(i, height[i])`.\n",
    "\n",
    "Find two lines that together with the x-axis form a container, such that the container contains the most water.\n",
    "\n",
    "Return the maximum amount of water a container can store."
   ]
  },
  {
   "cell_type": "code",
   "execution_count": null,
   "id": "807fa6e6",
   "metadata": {},
   "outputs": [],
   "source": [
    "def maxArea(height: list) -> int:\n",
    "  "
   ]
  },
  {
   "cell_type": "code",
   "execution_count": null,
   "id": "84c06e87",
   "metadata": {},
   "outputs": [
    {
     "data": {
      "text/plain": [
       "49"
      ]
     },
     "execution_count": 2,
     "metadata": {},
     "output_type": "execute_result"
    }
   ],
   "source": [
    "height = [1,8,6,2,5,4,8,3,7]\n",
    "maxArea(height)  # 49"
   ]
  },
  {
   "cell_type": "code",
   "execution_count": null,
   "id": "f088f6a1",
   "metadata": {},
   "outputs": [],
   "source": []
  }
 ],
 "metadata": {
  "kernelspec": {
   "display_name": "base",
   "language": "python",
   "name": "python3"
  },
  "language_info": {
   "codemirror_mode": {
    "name": "ipython",
    "version": 3
   },
   "file_extension": ".py",
   "mimetype": "text/x-python",
   "name": "python",
   "nbconvert_exporter": "python",
   "pygments_lexer": "ipython3",
   "version": "3.13.5"
  }
 },
 "nbformat": 4,
 "nbformat_minor": 5
}
