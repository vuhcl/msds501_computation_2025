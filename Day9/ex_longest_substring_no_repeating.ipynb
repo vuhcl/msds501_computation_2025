{
 "cells": [
  {
   "cell_type": "code",
   "execution_count": null,
   "id": "223a9a78",
   "metadata": {},
   "outputs": [],
   "source": [
    "def lengthOfLongestSubstring(s):\n",
    "    chars = dict()\n",
    "    left = right = 0\n",
    "\n",
    "    max_len = 0\n",
    "    while right < len(s):\n",
    "        r = s[right]\n",
    "        if( r in chars):\n",
    "            chars[r] += 1\n",
    "        else:\n",
    "            chars[r] = 1\n",
    "\n",
    "        while chars[r] > 1:\n",
    "            l = s[left]\n",
    "            chars[l] -= 1\n",
    "            left += 1\n",
    "        max_len = max(max_len, right - left + 1)\n",
    "        right += 1\n",
    "    return max_len"
   ]
  },
  {
   "cell_type": "code",
   "execution_count": 5,
   "id": "71c35bd5",
   "metadata": {},
   "outputs": [
    {
     "data": {
      "text/plain": [
       "3"
      ]
     },
     "execution_count": 5,
     "metadata": {},
     "output_type": "execute_result"
    }
   ],
   "source": [
    "s=\"abcabcbb\"\n",
    "lengthOfLongestSubstring(s) # returns 3"
   ]
  },
  {
   "cell_type": "code",
   "execution_count": 6,
   "id": "f1c7df7f",
   "metadata": {},
   "outputs": [
    {
     "data": {
      "text/plain": [
       "1"
      ]
     },
     "execution_count": 6,
     "metadata": {},
     "output_type": "execute_result"
    }
   ],
   "source": [
    "s=\"bbbbb\"\n",
    "lengthOfLongestSubstring(s) # returns 1"
   ]
  },
  {
   "cell_type": "code",
   "execution_count": null,
   "id": "f74f22db",
   "metadata": {},
   "outputs": [],
   "source": []
  }
 ],
 "metadata": {
  "kernelspec": {
   "display_name": "base",
   "language": "python",
   "name": "python3"
  },
  "language_info": {
   "codemirror_mode": {
    "name": "ipython",
    "version": 3
   },
   "file_extension": ".py",
   "mimetype": "text/x-python",
   "name": "python",
   "nbconvert_exporter": "python",
   "pygments_lexer": "ipython3",
   "version": "3.13.5"
  }
 },
 "nbformat": 4,
 "nbformat_minor": 5
}
