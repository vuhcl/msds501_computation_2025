{
 "cells": [
  {
   "cell_type": "code",
   "execution_count": null,
   "id": "6157542d",
   "metadata": {},
   "outputs": [],
   "source": [
    "def two_pointer(s):\n",
    "    left, right = 0, len(s) - 1\n",
    "    while left < right:\n",
    "        # The following two lines should be updated\n",
    "        # with a new conditional statements.\n",
    "        if s[left] != s[right]: \n",
    "            return False\n",
    "        left += 1\n",
    "        right -= 1"
   ]
  },
  {
   "cell_type": "code",
   "execution_count": null,
   "id": "9a162496",
   "metadata": {},
   "outputs": [],
   "source": []
  }
 ],
 "metadata": {
  "language_info": {
   "name": "python"
  }
 },
 "nbformat": 4,
 "nbformat_minor": 5
}
