{
 "cells": [
  {
   "cell_type": "code",
   "execution_count": null,
   "id": "19e5886f",
   "metadata": {},
   "outputs": [],
   "source": [
    "def sliding_window(arr, k): # k : max subarray size\n",
    "    n = len(arr)\n",
    "    for i in range(n - k):\n",
    "        # Consider values in array on i to i + k\n",
    "        # Perform computation"
   ]
  },
  {
   "cell_type": "code",
   "execution_count": 5,
   "id": "6f63e934",
   "metadata": {},
   "outputs": [
    {
     "data": {
      "text/plain": [
       "4"
      ]
     },
     "execution_count": 5,
     "metadata": {},
     "output_type": "execute_result"
    }
   ],
   "source": [
    "sliding_window([1,2,3,4])"
   ]
  },
  {
   "cell_type": "code",
   "execution_count": null,
   "id": "d8f4aa6d",
   "metadata": {},
   "outputs": [],
   "source": []
  }
 ],
 "metadata": {
  "kernelspec": {
   "display_name": "base",
   "language": "python",
   "name": "python3"
  },
  "language_info": {
   "codemirror_mode": {
    "name": "ipython",
    "version": 3
   },
   "file_extension": ".py",
   "mimetype": "text/x-python",
   "name": "python",
   "nbconvert_exporter": "python",
   "pygments_lexer": "ipython3",
   "version": "3.13.5"
  }
 },
 "nbformat": 4,
 "nbformat_minor": 5
}
