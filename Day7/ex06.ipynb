{
 "cells": [
  {
   "cell_type": "code",
   "execution_count": 1,
   "id": "ebea8006",
   "metadata": {},
   "outputs": [],
   "source": [
    "class FileReader:\n",
    "    def __init__(self, file_path):\n",
    "        self.file_path = file_path\n",
    "        self.load()\n",
    "        self.line_count = len(self.lines)\n",
    "        self.check_file_format()\n",
    "    \n",
    "    def load(self):\n",
    "        with open(self.file_path,'r') as f:\n",
    "            self.lines = f.readlines()\n",
    "\n",
    "    def print(self, n = 10):\n",
    "        for line in self.lines[:n]:\n",
    "            print(line.strip())\n",
    "    \n",
    "    def check_file_format(self):\n",
    "        file_extension = self.file_path.split(\".\")[-1]\n",
    "        match file_extension:\n",
    "            case \"csv\":\n",
    "                self.file_format = \"csv\"\n",
    "            case \"tsv\":\n",
    "                self.file_format = \"tsv\"\n",
    "            case \"json\":\n",
    "                self.file_format = \"json\"\n",
    "            case _:\n",
    "                self.file_format = \"unknown\""
   ]
  },
  {
   "cell_type": "code",
   "execution_count": 2,
   "id": "501ee6d2",
   "metadata": {},
   "outputs": [
    {
     "data": {
      "text/plain": [
       "74"
      ]
     },
     "execution_count": 2,
     "metadata": {},
     "output_type": "execute_result"
    }
   ],
   "source": [
    "file_reader = FileReader(\"../Data/countries.tsv\")\n",
    "file_reader.file_format\n",
    "file_reader.line_count"
   ]
  },
  {
   "cell_type": "code",
   "execution_count": 3,
   "id": "ef8a9b8b",
   "metadata": {},
   "outputs": [
    {
     "name": "stdout",
     "output_type": "stream",
     "text": [
      "AD\tAndorra\t42.5\t1.5\n",
      "AE\tUnited Arab Emirates\t24\t54\n",
      "AF\tAfghanistan\t33\t65\n",
      "AG\tAntigua and Barbuda\t17.05\t-61.8\n",
      "AI\tAnguilla\t18.25\t-63.17\n",
      "AL\tAlbania\t41\t20\n",
      "AM\tArmenia\t40\t45\n",
      "AN\tNetherlands Antilles\t12.25\t-68.75\n",
      "AO\tAngola\t-12.5\t18.5\n",
      "AP\tAsia/Pacific Region\t35\t105\n"
     ]
    }
   ],
   "source": [
    "file_reader.print()"
   ]
  },
  {
   "cell_type": "code",
   "execution_count": 4,
   "id": "667e9bb7",
   "metadata": {},
   "outputs": [
    {
     "name": "stdout",
     "output_type": "stream",
     "text": [
      "AD\tAndorra\t42.5\t1.5\n",
      "AE\tUnited Arab Emirates\t24\t54\n",
      "AF\tAfghanistan\t33\t65\n",
      "AG\tAntigua and Barbuda\t17.05\t-61.8\n",
      "AI\tAnguilla\t18.25\t-63.17\n"
     ]
    }
   ],
   "source": [
    "file_reader.print(5)"
   ]
  },
  {
   "cell_type": "code",
   "execution_count": 22,
   "id": "87562141",
   "metadata": {},
   "outputs": [],
   "source": [
    "class CSVReader(FileReader):\n",
    "    def __init__(self, file_path, header=False):\n",
    "        super().__init__(file_path)\n",
    "        self.header = header\n",
    "        if self.file_format not in [\"csv\", \"tsv\"]:\n",
    "            raise TypeError(f\"only .csv or .tsv supported : check {self.file_path} \")\n",
    "\n",
    "        if self.header == True:\n",
    "            self.header_lines = self.lines[0]\n",
    "\n",
    "    def split(self):\n",
    "        match self.file_format:\n",
    "            case \"tsv\":\n",
    "                self.splitted_lines = [line.strip().split(\"\\t\") for line in self.lines]\n",
    "                return self.splitted_lines\n",
    "            case \"csv\":\n",
    "                self.splitted_lines = [line.strip().split(\",\") for line in self.lines]\n",
    "                return self.splitted_lines\n",
    "            \n",
    "    def print(self, n=10):\n",
    "        if not hasattr(self, \"splitted_lines\"):\n",
    "            self.split()\n",
    "        start_idx = 1 if self.header else 0\n",
    "        lines_to_print = self.splitted_lines[start_idx : start_idx + n]\n",
    "        for i, line in enumerate(lines_to_print, 1):\n",
    "            print(f\"{i}: {line}\")\n"
   ]
  },
  {
   "cell_type": "code",
   "execution_count": 23,
   "id": "2e2279fd",
   "metadata": {},
   "outputs": [],
   "source": [
    "csv_file = CSVReader(\"../Data/countries.tsv\")"
   ]
  },
  {
   "cell_type": "code",
   "execution_count": 24,
   "id": "b9823ec6",
   "metadata": {},
   "outputs": [
    {
     "data": {
      "text/plain": [
       "74"
      ]
     },
     "execution_count": 24,
     "metadata": {},
     "output_type": "execute_result"
    }
   ],
   "source": [
    "csv_file.split()\n",
    "csv_file.line_count"
   ]
  },
  {
   "cell_type": "code",
   "execution_count": 25,
   "id": "5f98dddb",
   "metadata": {},
   "outputs": [
    {
     "name": "stdout",
     "output_type": "stream",
     "text": [
      "1: ['AD', 'Andorra', '42.5', '1.5']\n",
      "2: ['AE', 'United Arab Emirates', '24', '54']\n"
     ]
    }
   ],
   "source": [
    "csv_file.print(2)"
   ]
  },
  {
   "cell_type": "code",
   "execution_count": 21,
   "id": "2a1cd841",
   "metadata": {},
   "outputs": [
    {
     "name": "stdout",
     "output_type": "stream",
     "text": [
      "start_idx - 0\n",
      "1 : ['date', 'site_id', 'daily_mean_pm10_conentration', 'daily_aqi_value']\n",
      "2 : ['2020-01-01', '60070008', '27', '25']\n",
      "3 : ['2020-01-02', '60070008', '22', '20']\n",
      "4 : ['2020-01-03', '60070008', '30', '28']\n",
      "5 : ['2020-01-04', '60070008', '17', '16']\n",
      "6 : ['2020-01-05', '60070008', '18', '17']\n",
      "7 : ['2020-01-06', '60070008', '13', '12']\n",
      "8 : ['2020-01-07', '60070008', '26', '24']\n",
      "9 : ['2020-01-08', '60070008', '24', '22']\n",
      "10 : ['2020-01-09', '60070008', '9', '8']\n"
     ]
    }
   ],
   "source": [
    "csv_file = CSVReader(\"../Data/epa_air_quality.csv\",header= False)\n",
    "csv_file.print()"
   ]
  },
  {
   "cell_type": "code",
   "execution_count": null,
   "id": "0bc0bbd0",
   "metadata": {},
   "outputs": [],
   "source": []
  },
  {
   "cell_type": "code",
   "execution_count": null,
   "id": "fff7fa86",
   "metadata": {},
   "outputs": [],
   "source": []
  }
 ],
 "metadata": {
  "kernelspec": {
   "display_name": "base",
   "language": "python",
   "name": "python3"
  },
  "language_info": {
   "codemirror_mode": {
    "name": "ipython",
    "version": 3
   },
   "file_extension": ".py",
   "mimetype": "text/x-python",
   "name": "python",
   "nbconvert_exporter": "python",
   "pygments_lexer": "ipython3",
   "version": "3.13.5"
  }
 },
 "nbformat": 4,
 "nbformat_minor": 5
}
