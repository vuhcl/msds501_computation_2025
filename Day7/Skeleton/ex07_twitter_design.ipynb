{
 "cells": [
  {
   "cell_type": "code",
   "execution_count": null,
   "id": "c05df6a0",
   "metadata": {},
   "outputs": [],
   "source": [
    "class Twitter(object):\n",
    "\n",
    "    def __init__(self):\n",
    "        \n",
    "\n",
    "    def postTweet(self, userId:int, tweetId:int) -> None:\n",
    "        \"\"\"\n",
    "        Composes a new tweet with ID tweetId by the user userId. \n",
    "        Each call to this function will be made with a unique tweetId.\n",
    "        \"\"\"\n",
    "        \n",
    "        \n",
    "\n",
    "    def getNewsFeed(self, userId:int) -> list:\n",
    "        \"\"\"\n",
    "        Retrieves the 10 most recent tweet IDs in the user's news feed.\n",
    "        Each item in the news feed must be posted by users who the user followed or by the user themself. \n",
    "        Tweets must be ordered from most recent to least recent.\n",
    "        \"\"\"\n",
    "\n",
    "        \n",
    "\n",
    "    def follow(self, followerId:int, followeeId:int) -> None:\n",
    "        \"\"\"\n",
    "        The user with ID followerId started following the user with ID followeeId.\n",
    "        \"\"\"\n",
    "        \n",
    "\n",
    "    def unfollow(self, followerId:int, followeeId:int) -> None:\n",
    "        \"\"\"\n",
    "        The user with ID followerId started unfollowing the user with ID followeeId.\n",
    "        \"\"\"\n",
    "        \n",
    "\n",
    "\n",
    "# Your Twitter object will be instantiated and called as such:\n",
    "# obj = Twitter()\n",
    "# obj.postTweet(userId,tweetId)\n",
    "# param_2 = obj.getNewsFeed(userId)\n",
    "# obj.follow(followerId,followeeId)\n",
    "# obj.unfollow(followerId,followeeId)\n"
   ]
  }
 ],
 "metadata": {
  "language_info": {
   "name": "python"
  }
 },
 "nbformat": 4,
 "nbformat_minor": 5
}
