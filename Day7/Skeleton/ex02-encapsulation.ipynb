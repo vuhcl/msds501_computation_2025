{
 "cells": [
  {
   "cell_type": "markdown",
   "id": "1b545ced",
   "metadata": {},
   "source": [
    "Create a Human Class, which takes name, age, wage.\n",
    "\n",
    "While name is a public attribute, age is protected,\n",
    "and wage is private\n",
    "\n",
    "-  See whether you can call age and wage.\n",
    "-  Try to add protected and private methods and see whether you can access them outside of the class."
   ]
  },
  {
   "cell_type": "code",
   "execution_count": null,
   "id": "a74e682c",
   "metadata": {},
   "outputs": [],
   "source": [
    "class Human():\n",
    "    "
   ]
  },
  {
   "cell_type": "code",
   "execution_count": null,
   "id": "bfd1b454",
   "metadata": {},
   "outputs": [
    {
     "name": "stdout",
     "output_type": "stream",
     "text": [
      "John\n",
      "24\n"
     ]
    },
    {
     "ename": "AttributeError",
     "evalue": "'Human' object has no attribute '__wage'",
     "output_type": "error",
     "traceback": [
      "\u001b[0;31m---------------------------------------------------------------------------\u001b[0m",
      "\u001b[0;31mAttributeError\u001b[0m                            Traceback (most recent call last)",
      "Cell \u001b[0;32mIn[3], line 4\u001b[0m\n\u001b[1;32m      2\u001b[0m \u001b[38;5;28mprint\u001b[39m(obj\u001b[38;5;241m.\u001b[39mname)\n\u001b[1;32m      3\u001b[0m \u001b[38;5;28mprint\u001b[39m(obj\u001b[38;5;241m.\u001b[39m_age)\n\u001b[0;32m----> 4\u001b[0m \u001b[38;5;28mprint\u001b[39m(obj\u001b[38;5;241m.\u001b[39m__wage)\n",
      "\u001b[0;31mAttributeError\u001b[0m: 'Human' object has no attribute '__wage'"
     ]
    }
   ],
   "source": [
    "obj = Human(\"John\", 24, 85000)\n",
    "print(obj.name)  # John\n",
    "print(obj._age)  # 24 \n",
    "print(obj.__wage)  # Error"
   ]
  },
  {
   "cell_type": "code",
   "execution_count": null,
   "id": "bba1d081",
   "metadata": {},
   "outputs": [],
   "source": []
  }
 ],
 "metadata": {
  "kernelspec": {
   "display_name": "base",
   "language": "python",
   "name": "python3"
  },
  "language_info": {
   "codemirror_mode": {
    "name": "ipython",
    "version": 3
   },
   "file_extension": ".py",
   "mimetype": "text/x-python",
   "name": "python",
   "nbconvert_exporter": "python",
   "pygments_lexer": "ipython3",
   "version": "3.13.5"
  }
 },
 "nbformat": 4,
 "nbformat_minor": 5
}
