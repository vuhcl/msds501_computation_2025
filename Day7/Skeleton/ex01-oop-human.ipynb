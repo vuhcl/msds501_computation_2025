{
 "cells": [
  {
   "attachments": {},
   "cell_type": "markdown",
   "id": "eec4ac49",
   "metadata": {},
   "source": [
    "### Define a class for human and its object"
   ]
  },
  {
   "cell_type": "code",
   "execution_count": 15,
   "id": "cd395c2b-04df-4e61-bbbd-c4f535dc98cd",
   "metadata": {},
   "outputs": [],
   "source": [
    "class Human():\n",
    "    def __init__(self, first_val, last_val):\n",
    "      "
   ]
  },
  {
   "cell_type": "code",
   "execution_count": 16,
   "id": "84c2aaa8-d418-4d56-bd74-eeb4af6ba42d",
   "metadata": {},
   "outputs": [],
   "source": [
    "curry = Human(\"Stephen\", \"Curry\")"
   ]
  },
  {
   "cell_type": "markdown",
   "id": "f6857227-2b20-452c-890b-5bf6b027fb60",
   "metadata": {},
   "source": [
    "## Let's extend the Class to have introduce() and has_hobby() methods"
   ]
  },
  {
   "cell_type": "code",
   "execution_count": 20,
   "id": "65dcd06f-de77-4f9e-bfd5-10d36f02f57a",
   "metadata": {},
   "outputs": [],
   "source": [
    "class Human():\n",
    "    def __init__(self, first_val, last_val):\n",
    "        self.firstname = first_val\n",
    "        self.lastname = last_val\n",
    "        \n",
    "    def introduce(self):\n",
    "        print(f'My name is {self.firstname} {self.lastname }.')"
   ]
  },
  {
   "cell_type": "code",
   "execution_count": 25,
   "id": "0dcd17fa-c1d2-48db-a681-4abb0f1d4ec6",
   "metadata": {},
   "outputs": [],
   "source": [
    "curry = Human(\"Stephen\", \"Curry\")"
   ]
  },
  {
   "cell_type": "code",
   "execution_count": 32,
   "id": "ae16abb0-7798-4e12-89f9-6bcca3cbe38d",
   "metadata": {},
   "outputs": [],
   "source": [
    "curry.has_hobby(\"golf\")"
   ]
  },
  {
   "cell_type": "code",
   "execution_count": 33,
   "id": "1ee0dbc6-957e-4f8e-a8bd-3a8c9bee0f4d",
   "metadata": {},
   "outputs": [
    {
     "data": {
      "text/plain": [
       "'golf'"
      ]
     },
     "execution_count": 33,
     "metadata": {},
     "output_type": "execute_result"
    }
   ],
   "source": [
    "curry.hobby"
   ]
  },
  {
   "cell_type": "code",
   "execution_count": 34,
   "id": "220ba8b2-1c5e-4685-a355-00697d0b586d",
   "metadata": {},
   "outputs": [
    {
     "data": {
      "text/plain": [
       "{'firstname': 'Stephen', 'lastname': 'Curry', 'hobby': 'golf'}"
      ]
     },
     "execution_count": 34,
     "metadata": {},
     "output_type": "execute_result"
    }
   ],
   "source": [
    "curry.__dict__"
   ]
  },
  {
   "cell_type": "code",
   "execution_count": null,
   "id": "d9a7b2f6-1381-45a5-9658-03bd2019e4c8",
   "metadata": {},
   "outputs": [],
   "source": []
  }
 ],
 "metadata": {
  "kernelspec": {
   "display_name": "Python 3 (ipykernel)",
   "language": "python",
   "name": "python3"
  },
  "language_info": {
   "codemirror_mode": {
    "name": "ipython",
    "version": 3
   },
   "file_extension": ".py",
   "mimetype": "text/x-python",
   "name": "python",
   "nbconvert_exporter": "python",
   "pygments_lexer": "ipython3",
   "version": "3.11.3"
  }
 },
 "nbformat": 4,
 "nbformat_minor": 5
}
