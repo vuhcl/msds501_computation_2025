{
 "cells": [
  {
   "attachments": {},
   "cell_type": "markdown",
   "id": "eec4ac49",
   "metadata": {},
   "source": [
    "### Define a class for human and its object"
   ]
  },
  {
   "cell_type": "code",
   "execution_count": 15,
   "id": "cd395c2b-04df-4e61-bbbd-c4f535dc98cd",
   "metadata": {},
   "outputs": [],
   "source": [
    "class Human():\n",
    "    def __init__(self, first_val, last_val):\n",
    "        self.firstname = first_val\n",
    "        self.lastname = last_val"
   ]
  },
  {
   "cell_type": "code",
   "execution_count": 16,
   "id": "84c2aaa8-d418-4d56-bd74-eeb4af6ba42d",
   "metadata": {},
   "outputs": [],
   "source": [
    "curry = Human(\"Stephen\", \"Curry\")"
   ]
  },
  {
   "cell_type": "code",
   "execution_count": 17,
   "id": "dbfc5927-6db1-40ea-b5fe-c876f3cb97de",
   "metadata": {},
   "outputs": [
    {
     "name": "stdout",
     "output_type": "stream",
     "text": [
      "Stephen Curry\n"
     ]
    }
   ],
   "source": [
    "print(curry.firstname, curry.lastname)"
   ]
  },
  {
   "cell_type": "code",
   "execution_count": 18,
   "id": "3b431a3b",
   "metadata": {},
   "outputs": [
    {
     "data": {
      "text/plain": [
       "['__class__',\n",
       " '__delattr__',\n",
       " '__dict__',\n",
       " '__dir__',\n",
       " '__doc__',\n",
       " '__eq__',\n",
       " '__format__',\n",
       " '__ge__',\n",
       " '__getattribute__',\n",
       " '__getstate__',\n",
       " '__gt__',\n",
       " '__hash__',\n",
       " '__init__',\n",
       " '__init_subclass__',\n",
       " '__le__',\n",
       " '__lt__',\n",
       " '__module__',\n",
       " '__ne__',\n",
       " '__new__',\n",
       " '__reduce__',\n",
       " '__reduce_ex__',\n",
       " '__repr__',\n",
       " '__setattr__',\n",
       " '__sizeof__',\n",
       " '__str__',\n",
       " '__subclasshook__',\n",
       " '__weakref__',\n",
       " 'firstname',\n",
       " 'lastname']"
      ]
     },
     "execution_count": 18,
     "metadata": {},
     "output_type": "execute_result"
    }
   ],
   "source": [
    "dir(curry)"
   ]
  },
  {
   "cell_type": "code",
   "execution_count": 19,
   "id": "a7d036b7",
   "metadata": {},
   "outputs": [
    {
     "data": {
      "text/plain": [
       "{'firstname': 'Stephen', 'lastname': 'Curry'}"
      ]
     },
     "execution_count": 19,
     "metadata": {},
     "output_type": "execute_result"
    }
   ],
   "source": [
    "curry.__dict__"
   ]
  },
  {
   "attachments": {},
   "cell_type": "markdown",
   "id": "f6857227-2b20-452c-890b-5bf6b027fb60",
   "metadata": {},
   "source": [
    "## Let's extend the Class to have introduce() and has_hobby() methods"
   ]
  },
  {
   "cell_type": "code",
   "execution_count": 20,
   "id": "65dcd06f-de77-4f9e-bfd5-10d36f02f57a",
   "metadata": {},
   "outputs": [],
   "source": [
    "class Human():\n",
    "    def __init__(self, first_val, last_val):\n",
    "        self.firstname = first_val\n",
    "        self.lastname = last_val\n",
    "\n",
    "    def introduce(self):\n",
    "        print(f'My name is {self.firstname} {self.lastname }.')"
   ]
  },
  {
   "cell_type": "code",
   "execution_count": 21,
   "id": "b2266b85-3d07-4150-b4b7-56fbeb34cb06",
   "metadata": {},
   "outputs": [],
   "source": [
    "curry = Human(\"Stephen\", \"Curry\")"
   ]
  },
  {
   "cell_type": "code",
   "execution_count": 35,
   "id": "444dcb33-1961-441b-87f1-1c2d37acbe71",
   "metadata": {},
   "outputs": [],
   "source": [
    "dir(curry)"
   ]
  },
  {
   "cell_type": "code",
   "execution_count": 23,
   "id": "2313a5d5-88b3-45f7-869e-71b441652683",
   "metadata": {},
   "outputs": [
    {
     "name": "stdout",
     "output_type": "stream",
     "text": [
      "My name is Stephen Curry.\n"
     ]
    }
   ],
   "source": [
    "curry.introduce()"
   ]
  },
  {
   "cell_type": "code",
   "execution_count": 24,
   "id": "08a1fb47-31ac-468c-8311-1d616c03a965",
   "metadata": {},
   "outputs": [],
   "source": [
    "class Human():\n",
    "    def __init__(self, first_val, last_val):\n",
    "        self.firstname = first_val\n",
    "        self.lastname = last_val\n",
    "\n",
    "    def has_hobby(self, val):\n",
    "        self.hobby = val\n",
    "\n",
    "    def introduce(self):\n",
    "        print(f'My name is {self.firstname} {self.lastname }.')"
   ]
  },
  {
   "cell_type": "code",
   "execution_count": 25,
   "id": "0dcd17fa-c1d2-48db-a681-4abb0f1d4ec6",
   "metadata": {},
   "outputs": [],
   "source": [
    "curry = Human(\"Stephen\", \"Curry\")"
   ]
  },
  {
   "cell_type": "code",
   "execution_count": 26,
   "id": "96cd2842-4e9d-45a9-80ee-c7a7745707f4",
   "metadata": {},
   "outputs": [
    {
     "data": {
      "text/plain": [
       "{'firstname': 'Stephen', 'lastname': 'Curry'}"
      ]
     },
     "execution_count": 26,
     "metadata": {},
     "output_type": "execute_result"
    }
   ],
   "source": [
    "curry.__dict__"
   ]
  },
  {
   "cell_type": "code",
   "execution_count": 27,
   "id": "c3623535-0dc2-4dca-921d-4ad349f3fd95",
   "metadata": {},
   "outputs": [
    {
     "data": {
      "text/plain": [
       "'Stephen'"
      ]
     },
     "execution_count": 27,
     "metadata": {},
     "output_type": "execute_result"
    }
   ],
   "source": [
    "curry.firstname"
   ]
  },
  {
   "cell_type": "code",
   "execution_count": 28,
   "id": "6fba869f-5940-4305-b756-dcd51f9867c9",
   "metadata": {},
   "outputs": [
    {
     "name": "stdout",
     "output_type": "stream",
     "text": [
      "My name is Stephen Curry.\n"
     ]
    }
   ],
   "source": [
    "curry.introduce()"
   ]
  },
  {
   "cell_type": "code",
   "execution_count": 32,
   "id": "ae16abb0-7798-4e12-89f9-6bcca3cbe38d",
   "metadata": {},
   "outputs": [],
   "source": [
    "curry.has_hobby(\"golf\")"
   ]
  },
  {
   "cell_type": "code",
   "execution_count": 33,
   "id": "1ee0dbc6-957e-4f8e-a8bd-3a8c9bee0f4d",
   "metadata": {},
   "outputs": [
    {
     "data": {
      "text/plain": [
       "'golf'"
      ]
     },
     "execution_count": 33,
     "metadata": {},
     "output_type": "execute_result"
    }
   ],
   "source": [
    "curry.hobby"
   ]
  },
  {
   "cell_type": "code",
   "execution_count": 34,
   "id": "220ba8b2-1c5e-4685-a355-00697d0b586d",
   "metadata": {},
   "outputs": [
    {
     "data": {
      "text/plain": [
       "{'firstname': 'Stephen', 'lastname': 'Curry', 'hobby': 'golf'}"
      ]
     },
     "execution_count": 34,
     "metadata": {},
     "output_type": "execute_result"
    }
   ],
   "source": [
    "curry.__dict__"
   ]
  },
  {
   "cell_type": "code",
   "execution_count": null,
   "id": "d9a7b2f6-1381-45a5-9658-03bd2019e4c8",
   "metadata": {},
   "outputs": [],
   "source": []
  }
 ],
 "metadata": {
  "kernelspec": {
   "display_name": "Python 3 (ipykernel)",
   "language": "python",
   "name": "python3"
  },
  "language_info": {
   "codemirror_mode": {
    "name": "ipython",
    "version": 3
   },
   "file_extension": ".py",
   "mimetype": "text/x-python",
   "name": "python",
   "nbconvert_exporter": "python",
   "pygments_lexer": "ipython3",
   "version": "3.11.3"
  }
 },
 "nbformat": 4,
 "nbformat_minor": 5
}
