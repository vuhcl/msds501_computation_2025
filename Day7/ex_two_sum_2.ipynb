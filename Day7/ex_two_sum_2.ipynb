{
 "cells": [
  {
   "cell_type": "code",
   "execution_count": null,
   "id": "d0a6c956",
   "metadata": {},
   "outputs": [],
   "source": [
    "def twoSum(numbers, target):\n",
    "       left, right = 0, len(numbers)-1\n",
    "       while (left < right): \n",
    "        if target-numbers[left] == numbers[right]:\n",
    "            return [left+1, right+1]\n",
    "        elif target < numbers[left] + numbers[right]:\n",
    "            right -= 1\n",
    "        else:\n",
    "            left += 1\n",
    "\n",
    "       else:\n",
    "        return [-1. -1]"
   ]
  },
  {
   "cell_type": "code",
   "execution_count": null,
   "id": "79b770cc",
   "metadata": {},
   "outputs": [
    {
     "data": {
      "text/plain": [
       "[2, 5]"
      ]
     },
     "execution_count": 3,
     "metadata": {},
     "output_type": "execute_result"
    }
   ],
   "source": [
    "numbers = [1, 2, 4, 5, 7]\n",
    "target = 9\n",
    "twoSum(numbers, target) # returns [2, 5]"
   ]
  },
  {
   "cell_type": "code",
   "execution_count": null,
   "id": "7c5bbe3e",
   "metadata": {},
   "outputs": [],
   "source": []
  }
 ],
 "metadata": {
  "kernelspec": {
   "display_name": "base",
   "language": "python",
   "name": "python3"
  },
  "language_info": {
   "codemirror_mode": {
    "name": "ipython",
    "version": 3
   },
   "file_extension": ".py",
   "mimetype": "text/x-python",
   "name": "python",
   "nbconvert_exporter": "python",
   "pygments_lexer": "ipython3",
   "version": "3.13.5"
  }
 },
 "nbformat": 4,
 "nbformat_minor": 5
}
