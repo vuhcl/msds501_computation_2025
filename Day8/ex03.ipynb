{
 "cells": [
  {
   "cell_type": "code",
   "execution_count": 3,
   "metadata": {},
   "outputs": [],
   "source": [
    "import pickle\n",
    "import csv"
   ]
  },
  {
   "cell_type": "markdown",
   "metadata": {},
   "source": [
    "Create \n",
    "- convert_pickle_to_csv() which creates a csv file in output_path, by converting the pickle file in input_path.\n",
    "- filter_csv_and_save() which loads the csv file in input_path and filter data on index, and writes its unique set as a pickle file on output_path."
   ]
  },
  {
   "cell_type": "code",
   "execution_count": 10,
   "metadata": {},
   "outputs": [],
   "source": [
    "def convert_pickle_to_csv(input_path, output_path):\n",
    "    \"\"\"\n",
    "    Create a csv file in output_path, by converting\n",
    "    the pickle file in input_path.\n",
    "    \"\"\"\n",
    "    with open(input_path, 'rb') as input:\n",
    "        data = pickle.load(input)\n",
    "        with open(output_path, 'w') as output:\n",
    "            csv_file = csv.writer(output)\n",
    "            csv_file.writerows(data)"
   ]
  },
  {
   "cell_type": "code",
   "execution_count": 22,
   "metadata": {},
   "outputs": [],
   "source": [
    "input_path = '../Data/epa_air_quality.pickle'\n",
    "output_path = 'epa_air_quality.csv'\n",
    "convert_pickle_to_csv(input_path, output_path)"
   ]
  },
  {
   "cell_type": "code",
   "execution_count": 19,
   "metadata": {},
   "outputs": [],
   "source": [
    "def filter_csv_and_save(input_path, output_path, index):\n",
    "    \"\"\"\n",
    "    Load the csv file in input_path and filter data on index,\n",
    "    and write its unique set as a pickle file on output_path.\n",
    "    \"\"\"\n",
    "    with open(input_path, 'r') as input:\n",
    "        data = csv.reader(input)\n",
    "        unique_set = set()\n",
    "        for row in data:\n",
    "            unique_set.add(row[index])\n",
    "        with open(output_path, 'wb') as output:\n",
    "            pickle.dump(unique_set, output)"
   ]
  },
  {
   "cell_type": "code",
   "execution_count": 20,
   "metadata": {},
   "outputs": [],
   "source": [
    "input_path = 'epa_air_quality.csv' \n",
    "output_path = 'epa_stations.pickle'\n",
    "index = 3\n",
    "filter_csv_and_save(input_path, output_path, index)"
   ]
  },
  {
   "cell_type": "markdown",
   "metadata": {},
   "source": [
    "Final Check!"
   ]
  },
  {
   "cell_type": "code",
   "execution_count": 21,
   "metadata": {},
   "outputs": [
    {
     "name": "stdout",
     "output_type": "stream",
     "text": [
      "{'60290011', '60890007', '60472510', '60794002', '60670002', '60714001', '60310004', '60711234', '60710005', '60773005', '60658005', '60333011', '60652005', '60510001', '60650012', '60210003', '60510005', '60590007', '60270025', '60270023', '60450010', '60831008', '61131003', '60374006', '60190011', '60670284', '60650500', '60392010', '60831025', '60310500', '60251003', '60792004', '60798002', '60311004', '60290232', '60659001', '60374004', '60711004', '60890004', '60370002', '60592022', '60799001', '61072002', '61132001', '60690002', '60652002', '60832011', '60656001', '60651999', '60270029', '60792007', '60254004', '60195001', '60231004', '60610006', '60431001', '60731022', '60990005', '60990006', '60270022', '60670006', '60333010', '60370016', '60270030', '60333002', '61030007', '60510011', '60790005', '61113001', '60270026', '60250005', '60655001', '61010003', '60376012', '60190007', '60170011', '60714003', '61112002', '60890008', '60830011', '60650003', '60290018', '60379033', '60792006', '60250007', '60719004', '60712002', '60730001', '60731014', '60530008', '60710306', '60710001', '60254003', '60832004', '60375005', '60290010', '60970001', '60111002', '60973002', '60290017', '60658001', '60271001', '60090001', '60270004', '60270002', '60271003', '60771002', '60970002', '60190500', '60670010', '60271023', '60772010', '60070008', '60271028', '60371103', '60290014', '60271018', '60270028'}\n"
     ]
    }
   ],
   "source": [
    "with open(output_path, 'rb') as input:\n",
    "    data = pickle.load(input)\n",
    "    print(data)"
   ]
  },
  {
   "cell_type": "code",
   "execution_count": null,
   "metadata": {},
   "outputs": [],
   "source": []
  }
 ],
 "metadata": {
  "kernelspec": {
   "display_name": "base",
   "language": "python",
   "name": "python3"
  },
  "language_info": {
   "codemirror_mode": {
    "name": "ipython",
    "version": 3
   },
   "file_extension": ".py",
   "mimetype": "text/x-python",
   "name": "python",
   "nbconvert_exporter": "python",
   "pygments_lexer": "ipython3",
   "version": "3.11.3"
  },
  "orig_nbformat": 4
 },
 "nbformat": 4,
 "nbformat_minor": 2
}
