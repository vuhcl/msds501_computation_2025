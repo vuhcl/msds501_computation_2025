{
 "cells": [
  {
   "cell_type": "code",
   "execution_count": 25,
   "metadata": {},
   "outputs": [],
   "source": [
    "import pickle\n",
    "import math"
   ]
  },
  {
   "cell_type": "code",
   "execution_count": 88,
   "metadata": {},
   "outputs": [],
   "source": [
    "file_path = '../Data/epa_air_quality.pickle'\n",
    "site_id = 60070008\n",
    "aqi_range={0:\"Good\", 50:\"Moderate\", 100:\"Unhealthy\"}\n",
    "abs_tol = 50"
   ]
  },
  {
   "cell_type": "code",
   "execution_count": 95,
   "metadata": {},
   "outputs": [
    {
     "data": {
      "text/plain": [
       "False"
      ]
     },
     "execution_count": 95,
     "metadata": {},
     "output_type": "execute_result"
    }
   ],
   "source": [
    "math.isclose(51, 102, abs_tol=abs_tol)"
   ]
  },
  {
   "cell_type": "code",
   "execution_count": 83,
   "metadata": {},
   "outputs": [],
   "source": [
    "def return_avg_air_quality(file_name, site_id, aqi_range, abs_tol=50):\n",
    "    \"\"\"\n",
    "    Create return_avg_air_quality(file_name, aqi_range, site_id, abs_tol)\n",
    "    which loads a pickle file called file_name and\n",
    "    returns 'The average aqi is XX, which is YY' \n",
    "    ('The average aqi is 13.7, which is Good') based on the aqi_range and abs_tol\n",
    "    for the given site_id.\n",
    "    - You can assume that aqi_range increase by 50, and use abs_tol.\n",
    "    (https://www.airnow.gov/aqi/aqi-basics/)\n",
    "    \"\"\"\n",
    "    with open(file_path, 'rb') as file:\n",
    "        data = pickle.load(file)\n",
    "        aqi_list = [i[5] for i in data if i[3]==site_id]\n",
    "        avg_aqi = sum(aqi_list)/len(aqi_list)\n",
    "        for range in aqi_range:\n",
    "            if math.isclose(range, avg_aqi, abs_tol=abs_tol):\n",
    "                return f'The average aqi is {avg_aqi:.4f}, which is {aqi_range[range]}'\n",
    "                break"
   ]
  },
  {
   "cell_type": "code",
   "execution_count": 87,
   "metadata": {},
   "outputs": [],
   "source": [
    "#return_avg_air_quality(file_path, site_id, aqi_range,  abs_tol=50)"
   ]
  },
  {
   "attachments": {},
   "cell_type": "markdown",
   "metadata": {},
   "source": [
    "Write to an output file"
   ]
  },
  {
   "cell_type": "code",
   "execution_count": 85,
   "metadata": {},
   "outputs": [],
   "source": [
    "# Write to an output file\n",
    "with open('add_records_output.pickle','wb') as file:\n",
    "    pickle.dump(return_avg_air_quality(file_path, site_id, aqi_range,  abs_tol=50),\n",
    "                file)"
   ]
  },
  {
   "cell_type": "code",
   "execution_count": 86,
   "metadata": {},
   "outputs": [
    {
     "name": "stdout",
     "output_type": "stream",
     "text": [
      "The average aqi is 15.9118, which is Good\n"
     ]
    }
   ],
   "source": [
    "with open('add_records_output.pickle','rb') as file:\n",
    "    print(pickle.load(file))"
   ]
  },
  {
   "cell_type": "code",
   "execution_count": null,
   "metadata": {},
   "outputs": [],
   "source": []
  }
 ],
 "metadata": {
  "kernelspec": {
   "display_name": "base",
   "language": "python",
   "name": "python3"
  },
  "language_info": {
   "codemirror_mode": {
    "name": "ipython",
    "version": 3
   },
   "file_extension": ".py",
   "mimetype": "text/x-python",
   "name": "python",
   "nbconvert_exporter": "python",
   "pygments_lexer": "ipython3",
   "version": "3.11.3"
  },
  "orig_nbformat": 4
 },
 "nbformat": 4,
 "nbformat_minor": 2
}
