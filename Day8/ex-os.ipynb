{
 "cells": [
  {
   "attachments": {},
   "cell_type": "markdown",
   "metadata": {},
   "source": [
    "### OS\n",
    "- OS Related Operations"
   ]
  },
  {
   "cell_type": "code",
   "execution_count": 1,
   "metadata": {},
   "outputs": [],
   "source": [
    "import os"
   ]
  },
  {
   "cell_type": "code",
   "execution_count": 2,
   "metadata": {},
   "outputs": [
    {
     "name": "stdout",
     "output_type": "stream",
     "text": [
      "total 2760\n",
      "drwxr-xr-x@ 18 dwoodbridge  2062094358      576 Jul 15 16:33 .\n",
      "drwxr-xr-x  13 dwoodbridge  2062094358      416 Jul 15 16:02 ..\n",
      "drwxr-xr-x@ 12 dwoodbridge  2062094358      384 Jul 15 16:33 Skeleton\n",
      "-rw-r--r--@  1 dwoodbridge  2062094358       56 Jul 13 14:53 add_records_output.pickle\n",
      "-rw-r--r--@  1 dwoodbridge  2062094358  1325472 Jul 14 02:43 epa_air_quality.csv\n",
      "-rw-r--r--@  1 dwoodbridge  2062094358     1314 Jul 14 02:43 epa_stations.pickle\n",
      "-rw-r--r--@  1 dwoodbridge  2062094358     1823 Jul 15 16:29 ex-csv.ipynb\n",
      "-rw-r--r--@  1 dwoodbridge  2062094358     6253 Jul 13 09:31 ex-math-random.ipynb\n",
      "-rw-r--r--@  2 dwoodbridge  2062094358     3686 Jul 15 16:33 ex-os.ipynb\n",
      "-rw-r--r--@  1 dwoodbridge  2062094358     2430 Jul 15 16:19 ex-pickle.ipynb\n",
      "-rw-r--r--@  1 dwoodbridge  2062094358    23272 Jul 13 08:20 ex01-help.ipynb\n",
      "-rw-r--r--@  1 dwoodbridge  2062094358     3592 Jul 15 12:57 ex02.ipynb\n",
      "-rw-r--r--@  1 dwoodbridge  2062094358     4734 Jul 14 02:45 ex03.ipynb\n",
      "-rw-r--r--@  1 d"
     ]
    },
    {
     "data": {
      "text/plain": [
       "0"
      ]
     },
     "execution_count": 2,
     "metadata": {},
     "output_type": "execute_result"
    },
    {
     "name": "stdout",
     "output_type": "stream",
     "text": [
      "woodbridge  2062094358     2240 Jul 14 09:02 ex04.ipynb\n",
      "-rw-r--r--@  2 dwoodbridge  2062094358       22 Jul 15 16:14 file.pickle\n",
      "-rw-r--r--@  1 dwoodbridge  2062094358      164 Jul 14 08:52 git_address.txt\n",
      "-rw-r--r--@  1 dwoodbridge  2062094358      997 Jul 14 08:52 hw1.sh\n",
      "-rw-r--r--@  1 dwoodbridge  2062094358       10 Jul 15 16:24 integer.csv\n"
     ]
    }
   ],
   "source": [
    "os.system('ls -la')  # performs 'ls -la'"
   ]
  },
  {
   "cell_type": "code",
   "execution_count": 3,
   "metadata": {},
   "outputs": [],
   "source": [
    "os.makedirs('dir') # creates a directory called 'dir'"
   ]
  },
  {
   "cell_type": "code",
   "execution_count": 4,
   "metadata": {},
   "outputs": [],
   "source": [
    "os.rename('dir','dir_2')  # rename 'dir' to 'dir_2'"
   ]
  },
  {
   "cell_type": "code",
   "execution_count": 5,
   "metadata": {},
   "outputs": [],
   "source": [
    "os.removedirs('dir_2')   # delete 'dir_2'"
   ]
  },
  {
   "cell_type": "code",
   "execution_count": 9,
   "metadata": {},
   "outputs": [
    {
     "ename": "FileNotFoundError",
     "evalue": "[Errno 2] No such file or directory: 'file.pickle'",
     "output_type": "error",
     "traceback": [
      "\u001b[0;31m---------------------------------------------------------------------------\u001b[0m",
      "\u001b[0;31mFileNotFoundError\u001b[0m                         Traceback (most recent call last)",
      "Cell \u001b[0;32mIn[9], line 1\u001b[0m\n\u001b[0;32m----> 1\u001b[0m os\u001b[39m.\u001b[39mremove(\u001b[39m'\u001b[39m\u001b[39mfile.pickle\u001b[39m\u001b[39m'\u001b[39m)\n",
      "\u001b[0;31mFileNotFoundError\u001b[0m: [Errno 2] No such file or directory: 'file.pickle'"
     ]
    }
   ],
   "source": [
    "os.remove('file.pickle')   # delete 'file.pickle'"
   ]
  },
  {
   "cell_type": "markdown",
   "metadata": {},
   "source": [
    "- os.path"
   ]
  },
  {
   "cell_type": "code",
   "execution_count": 11,
   "metadata": {},
   "outputs": [
    {
     "data": {
      "text/plain": [
       "True"
      ]
     },
     "execution_count": 11,
     "metadata": {},
     "output_type": "execute_result"
    }
   ],
   "source": [
    "os.path.exists('./Skeleton')"
   ]
  },
  {
   "cell_type": "code",
   "execution_count": 15,
   "metadata": {},
   "outputs": [
    {
     "data": {
      "text/plain": [
       "False"
      ]
     },
     "execution_count": 15,
     "metadata": {},
     "output_type": "execute_result"
    }
   ],
   "source": [
    "os.path.isfile('ex03.ipynb')  # True\n",
    "os.path.isfile('Skeleton')  # False"
   ]
  },
  {
   "cell_type": "code",
   "execution_count": 17,
   "metadata": {},
   "outputs": [
    {
     "data": {
      "text/plain": [
       "True"
      ]
     },
     "execution_count": 17,
     "metadata": {},
     "output_type": "execute_result"
    }
   ],
   "source": [
    "os.path.isfile('Skeleton')  # False\n",
    "os.path.isdir('./Skeleton')  # True"
   ]
  },
  {
   "cell_type": "code",
   "execution_count": 20,
   "metadata": {},
   "outputs": [
    {
     "data": {
      "text/plain": [
       "'/opt/homebrew/anaconda3/bin:/opt/homebrew/anaconda3/condabin:/opt/homebrew/anaconda3/bin:/Applications/Visual Studio Code.app/Contents/Resources/app/bin:/opt/homebrew/anaconda3/bin:/opt/homebrew/bin:/opt/homebrew/sbin:/usr/local/bin:/System/Cryptexes/App/usr/bin:/usr/bin:/bin:/usr/sbin:/sbin:/usr/local/share/dotnet:~/.dotnet/tools:/Library/Apple/usr/bin:/var/run/com.apple.security.cryptexd/codex.system/bootstrap/usr/local/bin:/var/run/com.apple.security.cryptexd/codex.system/bootstrap/usr/bin:/var/run/com.apple.security.cryptexd/codex.system/bootstrap/usr/appleinternal/bin'"
      ]
     },
     "execution_count": 20,
     "metadata": {},
     "output_type": "execute_result"
    }
   ],
   "source": [
    "os.environ['PATH'] # Returns environment path, PATH"
   ]
  },
  {
   "cell_type": "code",
   "execution_count": null,
   "metadata": {},
   "outputs": [],
   "source": []
  }
 ],
 "metadata": {
  "kernelspec": {
   "display_name": "base",
   "language": "python",
   "name": "python3"
  },
  "language_info": {
   "codemirror_mode": {
    "name": "ipython",
    "version": 3
   },
   "file_extension": ".py",
   "mimetype": "text/x-python",
   "name": "python",
   "nbconvert_exporter": "python",
   "pygments_lexer": "ipython3",
   "version": "3.11.3"
  },
  "orig_nbformat": 4
 },
 "nbformat": 4,
 "nbformat_minor": 2
}
