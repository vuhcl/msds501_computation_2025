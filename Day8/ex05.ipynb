{
 "cells": [
  {
   "attachments": {},
   "cell_type": "markdown",
   "metadata": {},
   "source": [
    "### Convert the HW1 to python\n",
    "Read comma-separated lines from file_name.\n",
    "\n",
    "In this file, the first field is a url for the git repo and the second field is the folder path.\n",
    "\n",
    "If the folder is not created yet, clone the repository to the given folder path.\n",
    "\n",
    "If the folder exists (you can assume that it is a git repository), update the repo using git pull.\n",
    "\n",
    "- Note: The path could be absolute or relative. The code can be run on any location on your computer.\n"
   ]
  },
  {
   "cell_type": "code",
   "execution_count": null,
   "metadata": {},
   "outputs": [],
   "source": [
    "import csv\n",
    "import os\n",
    "\n",
    "file_name = \"git_address.txt\"\n",
    "\n",
    "with open(file_name, 'r') as input:\n",
    "    data = csv.reader(input)\n",
    "    for row in data:\n",
    "        git_address = row[0]\n",
    "        dir = row[1]\n",
    "        if os.path.isdir(dir):\n",
    "            print(\"dir exist\")\n",
    "            os.system(f'git -C {dir} pull')\n",
    "        else:\n",
    "            os.system(f'git clone {git_address} {dir}')        "
   ]
  },
  {
   "cell_type": "code",
   "execution_count": null,
   "metadata": {},
   "outputs": [],
   "source": []
  }
 ],
 "metadata": {
  "kernelspec": {
   "display_name": "base",
   "language": "python",
   "name": "python3"
  },
  "language_info": {
   "codemirror_mode": {
    "name": "ipython",
    "version": 3
   },
   "file_extension": ".py",
   "mimetype": "text/x-python",
   "name": "python",
   "nbconvert_exporter": "python",
   "pygments_lexer": "ipython3",
   "version": "3.11.3"
  },
  "orig_nbformat": 4
 },
 "nbformat": 4,
 "nbformat_minor": 2
}
