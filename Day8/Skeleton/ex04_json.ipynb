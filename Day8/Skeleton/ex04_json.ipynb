{
 "cells": [
  {
   "cell_type": "code",
   "execution_count": 1,
   "id": "0cad9399",
   "metadata": {},
   "outputs": [],
   "source": [
    "#  National Health Interview Survey (NHIS) Adult Summary Health Statistics\n",
    "#  URL : https://catalog.data.gov/dataset/nhis-adult-summary-health-statistics-b5ce9"
   ]
  },
  {
   "cell_type": "code",
   "execution_count": null,
   "id": "b48aeff7",
   "metadata": {},
   "outputs": [],
   "source": [
    "import json\n",
    "\n",
    "def filter_by_year(file_path:int, year:int) -> dict:\n",
    "  "
   ]
  },
  {
   "cell_type": "code",
   "execution_count": null,
   "id": "64c350a2",
   "metadata": {},
   "outputs": [],
   "source": [
    "if __name__ == \"__main__\":\n",
    "    year = 2019\n",
    "    file_path = \"../Data/nhis.json\" \n",
    "    result = filter_by_year(file_path, year)\n",
    "\n",
    "    # Writing JSON\n",
    "    with open(f\"data_{year}.json\", \"w\") as f:\n",
    "        json.dump(result, f, indent=4)"
   ]
  },
  {
   "cell_type": "code",
   "execution_count": null,
   "id": "45d2683e",
   "metadata": {},
   "outputs": [],
   "source": []
  }
 ],
 "metadata": {
  "kernelspec": {
   "display_name": "base",
   "language": "python",
   "name": "python3"
  },
  "language_info": {
   "codemirror_mode": {
    "name": "ipython",
    "version": 3
   },
   "file_extension": ".py",
   "mimetype": "text/x-python",
   "name": "python",
   "nbconvert_exporter": "python",
   "pygments_lexer": "ipython3",
   "version": "3.13.5"
  }
 },
 "nbformat": 4,
 "nbformat_minor": 5
}
