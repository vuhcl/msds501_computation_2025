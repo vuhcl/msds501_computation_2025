{
 "cells": [
  {
   "attachments": {},
   "cell_type": "markdown",
   "id": "742c3999-cf12-4c46-a736-a0d92cf1afdb",
   "metadata": {},
   "source": [
    "***\n",
    "- For the html package, see available functions and modules.\n",
    "- In the html package, see the parser function’s documentation.\n",
    "***"
   ]
  },
  {
   "attachments": {},
   "cell_type": "markdown",
   "id": "2cb820e6",
   "metadata": {},
   "source": []
  },
  {
   "attachments": {},
   "cell_type": "markdown",
   "id": "65eb0669-9c68-4b0e-b989-a351b624aa3c",
   "metadata": {
    "tags": []
   },
   "source": [
    "#### Python dir() \n",
    "- Returns included functions, modules, etc.\n",
    "\n",
    "#### Python help() \n",
    "\n",
    "- Display the documentation of modules, packages, functions, classes, keywords, etc. \n",
    "\n",
    "- Useful for understanding usage, input/output and examples.\n",
    "\n",
    "#### Jupyter Lab supports auto-complete\n",
    "- If you hit tab after your module name ex. math.[tab] it shows available options."
   ]
  },
  {
   "cell_type": "code",
   "execution_count": 1,
   "id": "acaaf808-f2bf-4df4-a3ff-3b8c26d5fc0f",
   "metadata": {},
   "outputs": [],
   "source": [
    "import html"
   ]
  },
  {
   "cell_type": "code",
   "execution_count": null,
   "id": "dd01340a-9b29-4b9f-a049-cd7134ec8494",
   "metadata": {},
   "outputs": [],
   "source": []
  },
  {
   "cell_type": "code",
   "execution_count": null,
   "id": "b6a595b6-b71c-4106-854d-064276073072",
   "metadata": {},
   "outputs": [],
   "source": []
  }
 ],
 "metadata": {
  "kernelspec": {
   "display_name": "Python 3 (ipykernel)",
   "language": "python",
   "name": "python3"
  },
  "language_info": {
   "codemirror_mode": {
    "name": "ipython",
    "version": 3
   },
   "file_extension": ".py",
   "mimetype": "text/x-python",
   "name": "python",
   "nbconvert_exporter": "python",
   "pygments_lexer": "ipython3",
   "version": "3.11.3"
  }
 },
 "nbformat": 4,
 "nbformat_minor": 5
}
