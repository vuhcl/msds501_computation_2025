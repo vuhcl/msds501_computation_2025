{
 "cells": [
  {
   "cell_type": "code",
   "execution_count": 1,
   "metadata": {},
   "outputs": [],
   "source": [
    "import pickle\n",
    "import csv"
   ]
  },
  {
   "attachments": {},
   "cell_type": "markdown",
   "metadata": {},
   "source": [
    "Create \n",
    "- convert_pickle_to_csv() which creates a csv file in output_path, by converting the pickle file in input_path.\n",
    "- filter_csv_and_save() which loads the csv file in input_path and filter data on index, and writes its unique set as a pickle file on output_path."
   ]
  },
  {
   "cell_type": "code",
   "execution_count": 2,
   "metadata": {},
   "outputs": [],
   "source": [
    "def convert_pickle_to_csv(input_path, output_path):\n",
    "    \"\"\"\n",
    "    Create a csv file in output_path, by converting\n",
    "    the pickle file in input_path.\n",
    "    \"\"\"\n",
    "    with open(input_path, 'rb') as infile:\n",
    "        lines = pickle.load(infile)\n",
    "    with open(output_path, 'w') as outfile:\n",
    "        csv_writer = csv.writer(outfile)\n",
    "        csv_writer.writerows(lines)"
   ]
  },
  {
   "cell_type": "code",
   "execution_count": 3,
   "metadata": {},
   "outputs": [],
   "source": [
    "input_path = '../../Data/epa_air_quality.pickle'\n",
    "output_path = 'epa_air_quality.csv'\n",
    "convert_pickle_to_csv(input_path, output_path)"
   ]
  },
  {
   "cell_type": "code",
   "execution_count": 4,
   "metadata": {},
   "outputs": [],
   "source": [
    "def filter_csv_and_save(input_path, output_path, index):\n",
    "    \"\"\"\n",
    "    Load the csv file in input_path and filter data on index,\n",
    "    and write its unique set as a pickle file on output_path.\n",
    "    \"\"\"\n",
    "    with open(input_path, \"r\") as infile:\n",
    "        csv_reader = csv.reader(infile)\n",
    "        with open(output_path, 'wb') as outfile:\n",
    "            output = set()\n",
    "            for data in csv_reader:\n",
    "                output.add(data[index])\n",
    "            pickle.dump(output, outfile)"
   ]
  },
  {
   "cell_type": "code",
   "execution_count": 5,
   "metadata": {},
   "outputs": [],
   "source": [
    "input_path = 'epa_air_quality.csv' \n",
    "output_path = 'epa_stations.pickle'\n",
    "index = 3\n",
    "filter_csv_and_save(input_path, output_path, index)"
   ]
  },
  {
   "attachments": {},
   "cell_type": "markdown",
   "metadata": {},
   "source": [
    "Final Check!"
   ]
  },
  {
   "cell_type": "code",
   "execution_count": 6,
   "metadata": {},
   "outputs": [
    {
     "name": "stdout",
     "output_type": "stream",
     "text": [
      "{'60271023', '60714001', '60371103', '60231004', '60271028', '60970001', '60271001', '60333010', '60832011', '60270030', '60290010', '60190500', '60431001', '60790005', '60375005', '60271018', '60590007', '60270028', '60254003', '60472510', '60510005', '60773005', '60530008', '60376012', '60831025', '60270022', '60710001', '60270002', '60510011', '60250005', '60658005', '60450010', '60792004', '60090001', '60290014', '61132001', '60510001', '60370002', '60990006', '60210003', '60670002', '60719004', '60890004', '60254004', '60310500', '60890008', '60311004', '60973002', '61072002', '60374004', '60710306', '60290018', '60652005', '60652002', '60659001', '60190011', '60270026', '60310004', '60333011', '60370016', '60799001', '60392010', '61030007', '60270029', '60792007', '60831008', '60731014', '60651999', '61112002', '60772010', '60794002', '60333002', '60650500', '61113001', '60890007', '60670010', '60730001', '60290011', '60190007', '61131003', '60670284', '60374006', '60711004', '60670006', '60271003', '60711234', '60270023', '60655001', '60170011', '60379033', '60270025', '60712002', '60658001', '60290017', '60731022', '60710005', '61010003', '60830011', '60656001', '60592022', '60792006', '60690002', '60251003', '60990005', '60195001', '60270004', '60610006', '60070008', '60798002', '60714003', '60832004', '60111002', '60290232', '60970002', '60250007', '60771002', '60650003', '60650012'}\n"
     ]
    }
   ],
   "source": [
    "with open(output_path, 'rb') as input:\n",
    "    line = pickle.load(input)\n",
    "    print(line)"
   ]
  },
  {
   "cell_type": "code",
   "execution_count": null,
   "metadata": {},
   "outputs": [],
   "source": []
  }
 ],
 "metadata": {
  "kernelspec": {
   "display_name": "base",
   "language": "python",
   "name": "python3"
  },
  "language_info": {
   "codemirror_mode": {
    "name": "ipython",
    "version": 3
   },
   "file_extension": ".py",
   "mimetype": "text/x-python",
   "name": "python",
   "nbconvert_exporter": "python",
   "pygments_lexer": "ipython3",
   "version": "3.13.5"
  },
  "orig_nbformat": 4
 },
 "nbformat": 4,
 "nbformat_minor": 2
}
