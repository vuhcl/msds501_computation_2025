{
 "cells": [
  {
   "cell_type": "code",
   "execution_count": null,
   "metadata": {},
   "outputs": [],
   "source": [
    "import pickle\n",
    "import csv"
   ]
  },
  {
   "attachments": {},
   "cell_type": "markdown",
   "metadata": {},
   "source": [
    "Create \n",
    "- convert_pickle_to_csv() which creates a csv file in output_path, by converting the pickle file in input_path.\n",
    "- filter_csv_and_save() which loads the csv file in input_path and filter data on index, and writes its unique set as a pickle file on output_path."
   ]
  },
  {
   "cell_type": "code",
   "execution_count": null,
   "metadata": {},
   "outputs": [],
   "source": [
    "def convert_pickle_to_csv(input_path, output_path):\n",
    "    \"\"\"\n",
    "    Create a csv file in output_path, by converting\n",
    "    the pickle file in input_path.\n",
    "    \"\"\"\n"
   ]
  },
  {
   "cell_type": "code",
   "execution_count": null,
   "metadata": {},
   "outputs": [],
   "source": [
    "input_path = '../../Data/epa_air_quality.pickle'\n",
    "output_path = 'epa_air_quality.csv'\n",
    "convert_pickle_to_csv(input_path, output_path)"
   ]
  },
  {
   "cell_type": "code",
   "execution_count": null,
   "metadata": {},
   "outputs": [],
   "source": [
    "def filter_csv_and_save(input_path, output_path, index):\n",
    "    \"\"\"\n",
    "    Load the csv file in input_path and filter data on index,\n",
    "    and write its unique set as a pickle file on output_path.\n",
    "    \"\"\"\n"
   ]
  },
  {
   "cell_type": "code",
   "execution_count": null,
   "metadata": {},
   "outputs": [],
   "source": [
    "input_path = 'epa_air_quality.csv' \n",
    "output_path = 'epa_stations.pickle'\n",
    "index = 3\n",
    "filter_csv_and_save(input_path, output_path, index)"
   ]
  },
  {
   "attachments": {},
   "cell_type": "markdown",
   "metadata": {},
   "source": [
    "Final Check!"
   ]
  },
  {
   "cell_type": "code",
   "execution_count": null,
   "metadata": {},
   "outputs": [],
   "source": [
    "with open(output_path, 'rb') as input:\n"
   ]
  },
  {
   "cell_type": "code",
   "execution_count": null,
   "metadata": {},
   "outputs": [],
   "source": []
  }
 ],
 "metadata": {
  "kernelspec": {
   "display_name": "base",
   "language": "python",
   "name": "python3"
  },
  "language_info": {
   "codemirror_mode": {
    "name": "ipython",
    "version": 3
   },
   "file_extension": ".py",
   "mimetype": "text/x-python",
   "name": "python",
   "nbconvert_exporter": "python",
   "pygments_lexer": "ipython3",
   "version": "3.11.3"
  },
  "orig_nbformat": 4
 },
 "nbformat": 4,
 "nbformat_minor": 2
}
