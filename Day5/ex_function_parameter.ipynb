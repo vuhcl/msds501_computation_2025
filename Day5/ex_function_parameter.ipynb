{
 "cells": [
  {
   "cell_type": "code",
   "execution_count": 1,
   "id": "ee1d55dd",
   "metadata": {},
   "outputs": [],
   "source": [
    "def intro(name, school):\n",
    "    return f\"I am {name} going to {school}\""
   ]
  },
  {
   "cell_type": "code",
   "execution_count": 2,
   "id": "3b1872a6",
   "metadata": {},
   "outputs": [
    {
     "data": {
      "text/plain": [
       "'I am Diane going to USF'"
      ]
     },
     "execution_count": 2,
     "metadata": {},
     "output_type": "execute_result"
    }
   ],
   "source": [
    "#positional \n",
    "intro(\"Diane\", \"USF\")"
   ]
  },
  {
   "cell_type": "code",
   "execution_count": 3,
   "id": "a4e95ddb",
   "metadata": {},
   "outputs": [
    {
     "data": {
      "text/plain": [
       "'I am Diane going to USF'"
      ]
     },
     "execution_count": 3,
     "metadata": {},
     "output_type": "execute_result"
    }
   ],
   "source": [
    "#keyword\n",
    "intro(school=\"USF\", name=\"Diane\")"
   ]
  },
  {
   "cell_type": "code",
   "execution_count": 4,
   "id": "1608456d",
   "metadata": {},
   "outputs": [
    {
     "data": {
      "text/plain": [
       "'I am Diane going to USF'"
      ]
     },
     "execution_count": 4,
     "metadata": {},
     "output_type": "execute_result"
    }
   ],
   "source": [
    "#keyword\n",
    "intro(name=\"Diane\", school=\"USF\")"
   ]
  },
  {
   "cell_type": "code",
   "execution_count": null,
   "id": "e17535e5",
   "metadata": {},
   "outputs": [],
   "source": [
    "# arbitary argument (positional)\n",
    "def intro(*arg):\n",
    "    print(arg)\n",
    "    return f\"I am {arg[1:3]}\""
   ]
  },
  {
   "cell_type": "code",
   "execution_count": 16,
   "id": "d403ac0c",
   "metadata": {},
   "outputs": [
    {
     "data": {
      "text/plain": [
       "\"I am ('USF', 'what')\""
      ]
     },
     "execution_count": 16,
     "metadata": {},
     "output_type": "execute_result"
    }
   ],
   "source": [
    "intro(\"Diane\", \"USF\", \"what\", \"where\")"
   ]
  },
  {
   "cell_type": "code",
   "execution_count": 29,
   "id": "af174a3d",
   "metadata": {},
   "outputs": [
    {
     "data": {
      "text/plain": [
       "({'city': 'CM', 'school': 'USF'}, \"didn't meet condition\")"
      ]
     },
     "execution_count": 29,
     "metadata": {},
     "output_type": "execute_result"
    }
   ],
   "source": [
    "# arbitary keyword argument\n",
    "def intro(**arg):\n",
    "    if \"name\" in arg and \"school\" in arg:\n",
    "        return f\"I am {arg[\"name\"]}, going to {arg[\"school\"]}\"\n",
    "    elif \"name\" in arg:\n",
    "        return f\"I am {arg[\"name\"]}\"\n",
    "    return arg, \"didn't meet condition\"\n",
    "\n",
    "intro(city = \"CM\",  school=\"USF\")"
   ]
  },
  {
   "cell_type": "code",
   "execution_count": 23,
   "id": "696df836",
   "metadata": {},
   "outputs": [
    {
     "data": {
      "text/plain": [
       "'I am Diane, going to USF'"
      ]
     },
     "execution_count": 23,
     "metadata": {},
     "output_type": "execute_result"
    }
   ],
   "source": [
    "def intro(arg):\n",
    "    return f\"I am {arg[\"name\"]}, going to {arg[\"school\"]}\"\n",
    "\n",
    "intro({\"school\": \"USF\", \"name\" : \"Diane\"})"
   ]
  },
  {
   "cell_type": "code",
   "execution_count": null,
   "id": "56498b8a",
   "metadata": {},
   "outputs": [],
   "source": []
  }
 ],
 "metadata": {
  "kernelspec": {
   "display_name": "base",
   "language": "python",
   "name": "python3"
  },
  "language_info": {
   "codemirror_mode": {
    "name": "ipython",
    "version": 3
   },
   "file_extension": ".py",
   "mimetype": "text/x-python",
   "name": "python",
   "nbconvert_exporter": "python",
   "pygments_lexer": "ipython3",
   "version": "3.13.5"
  }
 },
 "nbformat": 4,
 "nbformat_minor": 5
}
