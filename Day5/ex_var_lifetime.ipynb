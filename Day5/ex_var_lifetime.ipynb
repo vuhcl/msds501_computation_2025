{
 "cells": [
  {
   "cell_type": "code",
   "execution_count": null,
   "id": "f95a7b2a",
   "metadata": {},
   "outputs": [
    {
     "name": "stdout",
     "output_type": "stream",
     "text": [
      "2\n"
     ]
    }
   ],
   "source": [
    "count = 0\n",
    "global count \n",
    "\n",
    "def count_num(lst):\n",
    "    global count\n",
    "    count = 0\n",
    "    for i in lst:\n",
    "        if type(i) == int:\n",
    "            count+=1\n",
    "    return count\n",
    "\n",
    "def find_num(lst2, target):\n",
    "    count_1 = count + 2\n",
    "    count = count + 2\n",
    "    return count\n",
    "\n",
    "\n",
    "count_num([\"0\", 1, 2])\n",
    "print(count)"
   ]
  },
  {
   "cell_type": "code",
   "execution_count": 16,
   "id": "542bd3fc",
   "metadata": {},
   "outputs": [
    {
     "data": {
      "text/plain": [
       "2"
      ]
     },
     "execution_count": 16,
     "metadata": {},
     "output_type": "execute_result"
    }
   ],
   "source": [
    "find_num([4,5,6], 1)"
   ]
  },
  {
   "cell_type": "code",
   "execution_count": 12,
   "id": "9499a060",
   "metadata": {},
   "outputs": [
    {
     "data": {
      "text/plain": [
       "2"
      ]
     },
     "execution_count": 12,
     "metadata": {},
     "output_type": "execute_result"
    }
   ],
   "source": [
    "count"
   ]
  },
  {
   "cell_type": "code",
   "execution_count": null,
   "id": "5ff093f2",
   "metadata": {},
   "outputs": [
    {
     "ename": "UnboundLocalError",
     "evalue": "cannot access local variable 'counter' where it is not associated with a value",
     "output_type": "error",
     "traceback": [
      "\u001b[0;31m---------------------------------------------------------------------------\u001b[0m",
      "\u001b[0;31mUnboundLocalError\u001b[0m                         Traceback (most recent call last)",
      "Cell \u001b[0;32mIn[26], line 10\u001b[0m\n\u001b[1;32m      7\u001b[0m     counter \u001b[38;5;241m=\u001b[39m counter \u001b[38;5;241m+\u001b[39m \u001b[38;5;241m2\u001b[39m \n\u001b[1;32m      8\u001b[0m     \u001b[38;5;28;01mreturn\u001b[39;00m counter\n\u001b[0;32m---> 10\u001b[0m something()\n",
      "Cell \u001b[0;32mIn[26], line 7\u001b[0m, in \u001b[0;36msomething\u001b[0;34m()\u001b[0m\n\u001b[1;32m      3\u001b[0m \u001b[38;5;28;01mdef\u001b[39;00m\u001b[38;5;250m \u001b[39m\u001b[38;5;21msomething\u001b[39m():\n\u001b[1;32m      4\u001b[0m     \u001b[38;5;66;03m# global counter\u001b[39;00m\n\u001b[1;32m      5\u001b[0m     \u001b[38;5;66;03m# counter_1 = counter + 2 # counter 0 , counter = 2\u001b[39;00m\n\u001b[1;32m      6\u001b[0m     \u001b[38;5;66;03m# counter  += 2 # counter = counter + 2 \u001b[39;00m\n\u001b[0;32m----> 7\u001b[0m     counter \u001b[38;5;241m=\u001b[39m counter \u001b[38;5;241m+\u001b[39m \u001b[38;5;241m2\u001b[39m \n\u001b[1;32m      8\u001b[0m     \u001b[38;5;28;01mreturn\u001b[39;00m counter\n",
      "\u001b[0;31mUnboundLocalError\u001b[0m: cannot access local variable 'counter' where it is not associated with a value"
     ]
    }
   ],
   "source": [
    "counter = 0\n",
    "\n",
    "def something():\n",
    "    # global counter\n",
    "    counter_1 = counter\n",
    "    # counter_1 = counter + 2 # counter 0 , counter = 2\n",
    "    # counter  += 2 # counter = counter + 2 \n",
    "    counter_1 = counter_1 + 2 \n",
    "    return counter_1\n",
    "\n",
    "something()\n",
    "# print(counter)\n"
   ]
  },
  {
   "cell_type": "code",
   "execution_count": null,
   "id": "d7adede7",
   "metadata": {},
   "outputs": [],
   "source": []
  }
 ],
 "metadata": {
  "kernelspec": {
   "display_name": "base",
   "language": "python",
   "name": "python3"
  },
  "language_info": {
   "codemirror_mode": {
    "name": "ipython",
    "version": 3
   },
   "file_extension": ".py",
   "mimetype": "text/x-python",
   "name": "python",
   "nbconvert_exporter": "python",
   "pygments_lexer": "ipython3",
   "version": "3.13.5"
  }
 },
 "nbformat": 4,
 "nbformat_minor": 5
}
