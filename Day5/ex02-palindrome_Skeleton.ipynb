{
 "cells": [
  {
   "attachments": {},
   "cell_type": "markdown",
   "id": "cce3db75-1aad-4086-9264-2d09e1c182cb",
   "metadata": {
    "tags": []
   },
   "source": [
    "## palindrome\n",
    "For a given sentence (input), create a function called find_palindrome_words() takes a string and return a list of strings that are palindrome words. A palindrome word remains the same when read forwards and backwards.\n",
    "\n",
    "Ex. pop, Noon\n",
    "\n",
    "<b> Note: </b> Complete the function with docstrings and function annotations."
   ]
  },
  {
   "cell_type": "code",
   "execution_count": null,
   "id": "609fca4b-54a7-47b5-82cf-bceefc41b748",
   "metadata": {},
   "outputs": [],
   "source": [
    "def find_palindrome_words(input: str):\n",
    "    \"\"\"\n",
    "    Find a list of strings that are palindrome words \n",
    "\n",
    "    Args:\n",
    "        input (str): A sentence a string of multiple words seperated by spaces\n",
    "\n",
    "    Returns:\n",
    "        (list): List of trings that are palindrome words in input\n",
    "    \"\"\"\n",
    "    return [i for i in input.split() if (i.lower() == i[::-1].lower())]"
   ]
  },
  {
   "cell_type": "code",
   "execution_count": 7,
   "id": "c72e185d-32ee-4263-ab0e-b266aef9a4ae",
   "metadata": {},
   "outputs": [
    {
     "data": {
      "text/plain": [
       "['I', 'did', 'a', 'tot', 'pop', 'Noon']"
      ]
     },
     "execution_count": 7,
     "metadata": {},
     "output_type": "execute_result"
    }
   ],
   "source": [
    "input_sentence = 'I did not like to listen a tot pop at Noon'\n",
    "find_palindrome_words(input_sentence)"
   ]
  },
  {
   "cell_type": "code",
   "execution_count": null,
   "id": "545da86b-b402-4466-bc0c-46edf48a9801",
   "metadata": {},
   "outputs": [],
   "source": []
  }
 ],
 "metadata": {
  "kernelspec": {
   "display_name": "base",
   "language": "python",
   "name": "python3"
  },
  "language_info": {
   "codemirror_mode": {
    "name": "ipython",
    "version": 3
   },
   "file_extension": ".py",
   "mimetype": "text/x-python",
   "name": "python",
   "nbconvert_exporter": "python",
   "pygments_lexer": "ipython3",
   "version": "3.13.5"
  }
 },
 "nbformat": 4,
 "nbformat_minor": 5
}
