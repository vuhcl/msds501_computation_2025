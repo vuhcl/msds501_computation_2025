{
 "cells": [
  {
   "cell_type": "code",
   "execution_count": 4,
   "id": "e0d21ca3",
   "metadata": {},
   "outputs": [
    {
     "data": {
      "text/plain": [
       "'Hi Diane, you are 41 years old!'"
      ]
     },
     "execution_count": 4,
     "metadata": {},
     "output_type": "execute_result"
    }
   ],
   "source": [
    "def greet(name: str, age: int) -> str:\n",
    "    \"\"\"\n",
    "    Create a greeting message.\n",
    "\n",
    "    Parameters:\n",
    "        name (str): The user's name\n",
    "        age (int): The user's age\n",
    "\n",
    "    Returns:\n",
    "        str: A greeting message\n",
    "    \"\"\"\n",
    "    return f\"Hi {name}, you are {age} years old!\"\n",
    "greet( \"Diane\", 41)"
   ]
  },
  {
   "cell_type": "code",
   "execution_count": 5,
   "id": "e6900d88",
   "metadata": {},
   "outputs": [
    {
     "name": "stdout",
     "output_type": "stream",
     "text": [
      "Help on function greet in module __main__:\n",
      "\n",
      "greet(name: str, age: int) -> str\n",
      "    Create a greeting message.\n",
      "\n",
      "    Parameters:\n",
      "        name (str): The user's name\n",
      "        age (int): The user's age\n",
      "\n",
      "    Returns:\n",
      "        str: A greeting message\n",
      "\n"
     ]
    }
   ],
   "source": [
    "help(greet)"
   ]
  },
  {
   "cell_type": "code",
   "execution_count": 7,
   "id": "e04539d3",
   "metadata": {},
   "outputs": [
    {
     "name": "stdout",
     "output_type": "stream",
     "text": [
      "[(4, 'a'), (2, 'b'), (3, 'c'), (1, 'd')]\n"
     ]
    }
   ],
   "source": [
    "vals = [(3,'c'), (4,'a'), (2, 'b'), (1, 'd')]\n",
    "vals.sort(key=(lambda x : x[1]))\n",
    "print(vals)"
   ]
  },
  {
   "cell_type": "code",
   "execution_count": 6,
   "id": "069b9d31",
   "metadata": {},
   "outputs": [
    {
     "data": {
      "text/plain": [
       "[(4, 'a'), (2, 'b'), (3, 'c'), (1, 'd')]"
      ]
     },
     "execution_count": 6,
     "metadata": {},
     "output_type": "execute_result"
    }
   ],
   "source": [
    "vals"
   ]
  },
  {
   "cell_type": "code",
   "execution_count": null,
   "id": "496b8547",
   "metadata": {},
   "outputs": [],
   "source": []
  }
 ],
 "metadata": {
  "kernelspec": {
   "display_name": "base",
   "language": "python",
   "name": "python3"
  },
  "language_info": {
   "codemirror_mode": {
    "name": "ipython",
    "version": 3
   },
   "file_extension": ".py",
   "mimetype": "text/x-python",
   "name": "python",
   "nbconvert_exporter": "python",
   "pygments_lexer": "ipython3",
   "version": "3.13.5"
  }
 },
 "nbformat": 4,
 "nbformat_minor": 5
}
