{
 "cells": [
  {
   "cell_type": "code",
   "execution_count": 1,
   "id": "0c4cfb7b",
   "metadata": {},
   "outputs": [],
   "source": [
    "lst = [\"Diane\", \"aija\", \"Aline\"]"
   ]
  },
  {
   "cell_type": "markdown",
   "id": "2cf3cb0b",
   "metadata": {},
   "source": [
    "Let's sort `lst` alphabetically (case-insensitive)"
   ]
  },
  {
   "cell_type": "code",
   "execution_count": null,
   "id": "e68a2c4d",
   "metadata": {},
   "outputs": [
    {
     "data": {
      "text/plain": [
       "['Aline', 'Diane', 'aija']"
      ]
     },
     "execution_count": 3,
     "metadata": {},
     "output_type": "execute_result"
    }
   ],
   "source": [
    "lst.sort()\n",
    "lst # Does this work?       "
   ]
  },
  {
   "cell_type": "code",
   "execution_count": 6,
   "id": "5143554c",
   "metadata": {},
   "outputs": [
    {
     "data": {
      "text/plain": [
       "['aija', 'Aline', 'Diane']"
      ]
     },
     "execution_count": 6,
     "metadata": {},
     "output_type": "execute_result"
    }
   ],
   "source": [
    "lst.sort(key = lambda x: x.lower())\n",
    "lst"
   ]
  },
  {
   "cell_type": "markdown",
   "id": "8ac8e27f",
   "metadata": {},
   "source": [
    "How am I sorting the list, now?"
   ]
  },
  {
   "cell_type": "code",
   "execution_count": null,
   "id": "75e7aedd",
   "metadata": {},
   "outputs": [
    {
     "data": {
      "text/plain": [
       "['Diane', 'Aline', 'aija']"
      ]
     },
     "execution_count": 8,
     "metadata": {},
     "output_type": "execute_result"
    }
   ],
   "source": [
    "lst.sort(key = lambda x : x[2].lower()) \n",
    "lst"
   ]
  },
  {
   "cell_type": "code",
   "execution_count": null,
   "id": "c7318ecf",
   "metadata": {},
   "outputs": [],
   "source": [
    "def apply_function(vals, function):\n",
    "    return function(vals)"
   ]
  },
  {
   "cell_type": "code",
   "execution_count": 14,
   "id": "ff3926da",
   "metadata": {},
   "outputs": [
    {
     "data": {
      "text/plain": [
       "[1, 2, 1, 2]"
      ]
     },
     "execution_count": 14,
     "metadata": {},
     "output_type": "execute_result"
    }
   ],
   "source": [
    "apply_function([1,2], lambda x : x * 2)"
   ]
  },
  {
   "cell_type": "code",
   "execution_count": 15,
   "id": "bfe247d5",
   "metadata": {},
   "outputs": [
    {
     "data": {
      "text/plain": [
       "6"
      ]
     },
     "execution_count": 15,
     "metadata": {},
     "output_type": "execute_result"
    }
   ],
   "source": [
    "apply_function( 3, lambda x : x*2)"
   ]
  },
  {
   "cell_type": "code",
   "execution_count": 16,
   "id": "9ffc9108",
   "metadata": {},
   "outputs": [
    {
     "data": {
      "text/plain": [
       "'Diane'"
      ]
     },
     "execution_count": 16,
     "metadata": {},
     "output_type": "execute_result"
    }
   ],
   "source": [
    "apply_function( \"diane\", lambda x : x[0].upper() + x[1:])"
   ]
  },
  {
   "cell_type": "code",
   "execution_count": null,
   "id": "96073548",
   "metadata": {},
   "outputs": [],
   "source": []
  }
 ],
 "metadata": {
  "kernelspec": {
   "display_name": "base",
   "language": "python",
   "name": "python3"
  },
  "language_info": {
   "codemirror_mode": {
    "name": "ipython",
    "version": 3
   },
   "file_extension": ".py",
   "mimetype": "text/x-python",
   "name": "python",
   "nbconvert_exporter": "python",
   "pygments_lexer": "ipython3",
   "version": "3.13.5"
  }
 },
 "nbformat": 4,
 "nbformat_minor": 5
}
