{
 "cells": [
  {
   "cell_type": "code",
   "execution_count": 2,
   "id": "ce45fd4d",
   "metadata": {},
   "outputs": [],
   "source": [
    "file_path = \"../Data/epa_air_quality.csv\""
   ]
  },
  {
   "cell_type": "code",
   "execution_count": null,
   "id": "feaa62d2",
   "metadata": {},
   "outputs": [],
   "source": [
    "import csv\n",
    "\n",
    "subset_list=list()\n",
    "with open(file_path, \"r\") as f:\n",
    "    reader = csv.reader(f, delimiter=\",\")\n",
    "    # delimiter : \",\" for csv, \"\\t\" for tsv\n",
    "    for row in reader:\n",
    "        subset_list.append([row[0], row[1], row[3]])\n",
    "\n",
    "with open(\"./output.tsv\", \"w\") as f:\n",
    "    writer = csv.writer(f, delimiter=\"\\t\")\n",
    "    writer.writerows(subset_list)"
   ]
  },
  {
   "cell_type": "code",
   "execution_count": null,
   "id": "7d022ce7",
   "metadata": {},
   "outputs": [],
   "source": []
  }
 ],
 "metadata": {
  "kernelspec": {
   "display_name": "base",
   "language": "python",
   "name": "python3"
  },
  "language_info": {
   "codemirror_mode": {
    "name": "ipython",
    "version": 3
   },
   "file_extension": ".py",
   "mimetype": "text/x-python",
   "name": "python",
   "nbconvert_exporter": "python",
   "pygments_lexer": "ipython3",
   "version": "3.13.5"
  }
 },
 "nbformat": 4,
 "nbformat_minor": 5
}
