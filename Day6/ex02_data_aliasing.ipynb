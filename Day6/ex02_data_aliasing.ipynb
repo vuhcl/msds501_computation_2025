{
 "cells": [
  {
   "cell_type": "markdown",
   "id": "466aadf6",
   "metadata": {},
   "source": [
    "Write a function shuffle_course(course: list[list[str]]) -> list[list[str]] that shuffles the positions of courses randomly while satisfying the following:\n",
    "\n",
    "- The input course is a list of lists, where each sublist represents a module's courses.\n",
    "- The function must not modify the original course.\n",
    "- The function should return a new list of lists with:\n",
    "    - The same number of modules (rows),\n",
    "    - The same number of total courses,\n",
    "    - All the same course names, just randomly shuffled across modules and positions.\n",
    "\n",
    "<b>\n",
    "Note : Please try out option 1, 2, and 3.</b>\n",
    "\n",
    "* What is wrong with the example answer,using  the original argument values, or using a shallow copy?\n",
    "\n"
   ]
  },
  {
   "cell_type": "code",
   "execution_count": null,
   "id": "cb88531a",
   "metadata": {},
   "outputs": [],
   "source": [
    "original_course = [[\"Computation for Data Science\", \"Exploratory Data Analysis\", \"Statistics\"],\n",
    "                   [\"Data Acquisition\", \"Linear Regression\", \"Relational Databases\", \"Communication\"],\n",
    "                   [\"Distributed Computing\", \"Timeseries Analysis\", \"Machine Learning\", \"Machine Learning Lab\"]\n",
    "]"
   ]
  },
  {
   "cell_type": "code",
   "execution_count": null,
   "id": "434f5af6",
   "metadata": {},
   "outputs": [],
   "source": [
    "import random\n",
    "import copy\n",
    "\n",
    "# Try with Option 1, Option 2 and Option 3.\n",
    "# See what happens to the original course.\n",
    "def shuffle_course(course_list: list[list]) -> list[list]: # Option 2 & 3\n",
    "#def shuffle_course(course: list[list]) -> list[list]: # Option 1\n",
    "   #  course = course_list.copy() # Option 2\n",
    "    course = copy.deepcopy(course_list) # Option 3\n",
    "\n",
    "    # Flatten the list of lists\n",
    "    all_courses = [c for module in course for c in module]\n",
    "    # Shuffle all the courses\n",
    "    random.shuffle(all_courses)\n",
    "    idx = 0\n",
    "    for mod_id, module in enumerate(course):\n",
    "     count = len(module)  # num of courses are in this module\n",
    "     for i in range(count):\n",
    "        course[mod_id][i] = all_courses[idx+i]\n",
    "     idx += count \n",
    "    return course"
   ]
  },
  {
   "cell_type": "code",
   "execution_count": 44,
   "id": "a38ffa62",
   "metadata": {},
   "outputs": [
    {
     "data": {
      "text/plain": [
       "[['Exploratory Data Analysis', 'Machine Learning', 'Linear Regression'],\n",
       " ['Distributed Computing',\n",
       "  'Communication',\n",
       "  'Relational Databases',\n",
       "  'Data Acquisition'],\n",
       " ['Machine Learning Lab',\n",
       "  'Statistics',\n",
       "  'Timeseries Analysis',\n",
       "  'Computation for Data Science']]"
      ]
     },
     "execution_count": 44,
     "metadata": {},
     "output_type": "execute_result"
    }
   ],
   "source": [
    "shuffle_course(original_course)"
   ]
  },
  {
   "cell_type": "code",
   "execution_count": 41,
   "id": "45b6102d",
   "metadata": {},
   "outputs": [
    {
     "data": {
      "text/plain": [
       "[['Computation for Data Science', 'Exploratory Data Analysis', 'Statistics'],\n",
       " ['Data Acquisition',\n",
       "  'Linear Regression',\n",
       "  'Relational Databases',\n",
       "  'Communication'],\n",
       " ['Distributed Computing',\n",
       "  'Timeseries Analysis',\n",
       "  'Machine Learning',\n",
       "  'Machine Learning Lab']]"
      ]
     },
     "execution_count": 41,
     "metadata": {},
     "output_type": "execute_result"
    }
   ],
   "source": [
    "original_course"
   ]
  },
  {
   "cell_type": "code",
   "execution_count": null,
   "id": "4d7887db",
   "metadata": {},
   "outputs": [],
   "source": []
  }
 ],
 "metadata": {
  "kernelspec": {
   "display_name": "base",
   "language": "python",
   "name": "python3"
  },
  "language_info": {
   "codemirror_mode": {
    "name": "ipython",
    "version": 3
   },
   "file_extension": ".py",
   "mimetype": "text/x-python",
   "name": "python",
   "nbconvert_exporter": "python",
   "pygments_lexer": "ipython3",
   "version": "3.13.5"
  }
 },
 "nbformat": 4,
 "nbformat_minor": 5
}
