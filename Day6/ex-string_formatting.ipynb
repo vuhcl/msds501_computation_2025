{
 "cells": [
  {
   "attachments": {},
   "cell_type": "markdown",
   "metadata": {},
   "source": [
    "# String Formatting"
   ]
  },
  {
   "cell_type": "code",
   "execution_count": 1,
   "metadata": {},
   "outputs": [],
   "source": [
    "site_id = 1234.56"
   ]
  },
  {
   "attachments": {},
   "cell_type": "markdown",
   "metadata": {},
   "source": [
    "The following code doesn't work as you cannot concatenate a string with numerical type."
   ]
  },
  {
   "cell_type": "code",
   "execution_count": 2,
   "metadata": {},
   "outputs": [
    {
     "ename": "TypeError",
     "evalue": "can only concatenate str (not \"float\") to str",
     "output_type": "error",
     "traceback": [
      "\u001b[0;31m---------------------------------------------------------------------------\u001b[0m",
      "\u001b[0;31mTypeError\u001b[0m                                 Traceback (most recent call last)",
      "Cell \u001b[0;32mIn[2], line 1\u001b[0m\n\u001b[0;32m----> 1\u001b[0m \u001b[39mprint\u001b[39m(\u001b[39m'\u001b[39m\u001b[39msite\u001b[39m\u001b[39m'\u001b[39m \u001b[39m+\u001b[39m site_id \u001b[39m+\u001b[39m \u001b[39m'\u001b[39m\u001b[39mis converted\u001b[39m\u001b[39m'\u001b[39m)\n",
      "\u001b[0;31mTypeError\u001b[0m: can only concatenate str (not \"float\") to str"
     ]
    }
   ],
   "source": [
    "print('site' + site_id + 'is converted')"
   ]
  },
  {
   "attachments": {},
   "cell_type": "markdown",
   "metadata": {},
   "source": [
    "### Formatted String Literals\n",
    "\n",
    "Beginning with f/F with ''' or ' is indicating a \"formatted string literal\""
   ]
  },
  {
   "cell_type": "code",
   "execution_count": 3,
   "metadata": {},
   "outputs": [
    {
     "name": "stdout",
     "output_type": "stream",
     "text": [
      "site     1235 is converted\n",
      "site 00001235 is converted\n",
      "site    +1235 is converted\n",
      "site 1234.560 is converted\n"
     ]
    }
   ],
   "source": [
    "print(f'''site {site_id:8.0f} is converted''')\n",
    "print(f'''site {site_id:08.0f} is converted''')\n",
    "print(f'''site {site_id:+8.0f} is converted''')\n",
    "print(f'''site {site_id:8.3f} is converted''')"
   ]
  },
  {
   "attachments": {},
   "cell_type": "markdown",
   "metadata": {},
   "source": [
    "## format() Method\n",
    "Use brackets and keyword/positional arguments within them and pass variables  with .format() method. "
   ]
  },
  {
   "cell_type": "code",
   "execution_count": 4,
   "metadata": {},
   "outputs": [
    {
     "name": "stdout",
     "output_type": "stream",
     "text": [
      "site 1234.560 is converted\n",
      "site 1234.560 is converted\n"
     ]
    }
   ],
   "source": [
    "print('site {0:8.3f} is converted'.format(site_id))\n",
    "print('site {site:8.3f} is converted'.format(site=site_id))"
   ]
  },
  {
   "attachments": {},
   "cell_type": "markdown",
   "metadata": {},
   "source": [
    "## Manual String Formatting\n",
    "Concatenating strings using +."
   ]
  },
  {
   "cell_type": "code",
   "execution_count": 5,
   "metadata": {},
   "outputs": [
    {
     "name": "stdout",
     "output_type": "stream",
     "text": [
      "site 1234.56 is converted\n"
     ]
    }
   ],
   "source": [
    "print('site' + ' ' + str(site_id) + ' ' + 'is converted')"
   ]
  },
  {
   "cell_type": "code",
   "execution_count": null,
   "metadata": {},
   "outputs": [],
   "source": []
  }
 ],
 "metadata": {
  "kernelspec": {
   "display_name": "base",
   "language": "python",
   "name": "python3"
  },
  "language_info": {
   "codemirror_mode": {
    "name": "ipython",
    "version": 3
   },
   "file_extension": ".py",
   "mimetype": "text/x-python",
   "name": "python",
   "nbconvert_exporter": "python",
   "pygments_lexer": "ipython3",
   "version": "3.11.3"
  },
  "orig_nbformat": 4
 },
 "nbformat": 4,
 "nbformat_minor": 2
}
