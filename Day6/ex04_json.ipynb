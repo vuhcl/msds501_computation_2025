{
 "cells": [
  {
   "cell_type": "code",
   "execution_count": 1,
   "id": "0cad9399",
   "metadata": {},
   "outputs": [],
   "source": [
    "#  National Health Interview Survey (NHIS) Adult Summary Health Statistics\n",
    "#  URL : https://catalog.data.gov/dataset/nhis-adult-summary-health-statistics-b5ce9"
   ]
  },
  {
   "cell_type": "code",
   "execution_count": 2,
   "id": "b48aeff7",
   "metadata": {},
   "outputs": [],
   "source": [
    "import json\n",
    "\n",
    "def filter_by_year(file_path:int, year:int) -> dict:\n",
    "    # Reading JSON\n",
    "    with open(file_path, \"r\") as f:\n",
    "        json_data = json.load(f) # file object\n",
    "\n",
    "        # Retrieve column names\n",
    "        columns = json_data[\"meta\"][\"view\"][\"columns\"]\n",
    "        column_names = [ name[\"name\"] for name in columns ]\n",
    "        # Filter data corresponding to the column names and given year.\n",
    "        data = json_data[\"data\"]\n",
    "        filtered_data = [record for record in data if record[-1]==str(year)]\n",
    "\n",
    "        # Create a dictionary including column_names, data (of the given year)\n",
    "        json_data = {\"column_names\": column_names,\n",
    "                    f\"data_{year}\": filtered_data}\n",
    "    return json_data"
   ]
  },
  {
   "cell_type": "code",
   "execution_count": null,
   "id": "64c350a2",
   "metadata": {},
   "outputs": [],
   "source": [
    "if __name__ == \"__main__\":\n",
    "    year = 2019\n",
    "    file_path = \"../Data/nhis.json\" \n",
    "    result = filter_by_year(file_path, year)\n",
    "\n",
    "    # Writing JSON\n",
    "    with open(f\"data_{year}.json\", \"w\") as f:\n",
    "        json.dump(result, f, indent=4)"
   ]
  },
  {
   "cell_type": "code",
   "execution_count": null,
   "id": "45d2683e",
   "metadata": {},
   "outputs": [],
   "source": []
  }
 ],
 "metadata": {
  "kernelspec": {
   "display_name": "base",
   "language": "python",
   "name": "python3"
  },
  "language_info": {
   "codemirror_mode": {
    "name": "ipython",
    "version": 3
   },
   "file_extension": ".py",
   "mimetype": "text/x-python",
   "name": "python",
   "nbconvert_exporter": "python",
   "pygments_lexer": "ipython3",
   "version": "3.13.5"
  }
 },
 "nbformat": 4,
 "nbformat_minor": 5
}
