{
 "cells": [
  {
   "cell_type": "code",
   "execution_count": 3,
   "id": "87706f27",
   "metadata": {},
   "outputs": [
    {
     "ename": "UnboundLocalError",
     "evalue": "cannot access local variable 'found' where it is not associated with a value",
     "output_type": "error",
     "traceback": [
      "\u001b[0;31m---------------------------------------------------------------------------\u001b[0m",
      "\u001b[0;31mUnboundLocalError\u001b[0m                         Traceback (most recent call last)",
      "Cell \u001b[0;32mIn[3], line 9\u001b[0m\n\u001b[1;32m      6\u001b[0m     found \u001b[38;5;241m=\u001b[39m \u001b[38;5;129;01mnot\u001b[39;00m found\n\u001b[1;32m      7\u001b[0m     \u001b[38;5;28;01mreturn\u001b[39;00m found\n\u001b[0;32m----> 9\u001b[0m find_val([\u001b[38;5;241m1\u001b[39m, \u001b[38;5;241m2\u001b[39m, \u001b[38;5;241m3\u001b[39m], \u001b[38;5;241m2\u001b[39m)\n\u001b[1;32m     10\u001b[0m \u001b[38;5;28mprint\u001b[39m(found)\n",
      "Cell \u001b[0;32mIn[3], line 6\u001b[0m, in \u001b[0;36mfind_val\u001b[0;34m(lst, target)\u001b[0m\n\u001b[1;32m      3\u001b[0m \u001b[38;5;28;01mdef\u001b[39;00m\u001b[38;5;250m \u001b[39m\u001b[38;5;21mfind_val\u001b[39m(lst: \u001b[38;5;28mlist\u001b[39m, target: \u001b[38;5;28mint\u001b[39m) \u001b[38;5;241m-\u001b[39m\u001b[38;5;241m>\u001b[39m \u001b[38;5;28mbool\u001b[39m:\n\u001b[1;32m      4\u001b[0m     \u001b[38;5;66;03m# global found\u001b[39;00m\n\u001b[1;32m      5\u001b[0m     \u001b[38;5;66;03m# if (target in lst):\u001b[39;00m\n\u001b[0;32m----> 6\u001b[0m     found \u001b[38;5;241m=\u001b[39m \u001b[38;5;129;01mnot\u001b[39;00m found\n\u001b[1;32m      7\u001b[0m     \u001b[38;5;28;01mreturn\u001b[39;00m found\n",
      "\u001b[0;31mUnboundLocalError\u001b[0m: cannot access local variable 'found' where it is not associated with a value"
     ]
    }
   ],
   "source": [
    "found = False\n",
    "\n",
    "def find_val(lst: list, target: int) -> bool:\n",
    "    # global found\n",
    "    # if (target in lst):\n",
    "    found = not found\n",
    "    return found\n",
    "\n",
    "find_val([1, 2, 3], 2)\n",
    "print(found)"
   ]
  },
  {
   "cell_type": "code",
   "execution_count": 5,
   "id": "7436b4c6",
   "metadata": {},
   "outputs": [
    {
     "name": "stdout",
     "output_type": "stream",
     "text": [
      "3\n"
     ]
    },
    {
     "data": {
      "text/plain": [
       "True"
      ]
     },
     "execution_count": 5,
     "metadata": {},
     "output_type": "execute_result"
    }
   ],
   "source": [
    "found = True\n",
    "num = 2\n",
    "\n",
    "def check_global():\n",
    "    num = 3\n",
    "    print(num)\n",
    "    return found\n",
    "\n",
    "check_global()"
   ]
  },
  {
   "cell_type": "code",
   "execution_count": 4,
   "id": "964e7998",
   "metadata": {},
   "outputs": [
    {
     "data": {
      "text/plain": [
       "'Woodbridge, Diane'"
      ]
     },
     "execution_count": 4,
     "metadata": {},
     "output_type": "execute_result"
    }
   ],
   "source": [
    "name = 1\n",
    "\n",
    "def print_name(something):\n",
    "    if something is not None:\n",
    "        name = \"Woodbridge, Diane\"\n",
    "    return name\n",
    "\n",
    "print_name(name)"
   ]
  },
  {
   "cell_type": "code",
   "execution_count": null,
   "id": "dcfa492d",
   "metadata": {},
   "outputs": [],
   "source": []
  }
 ],
 "metadata": {
  "kernelspec": {
   "display_name": "base",
   "language": "python",
   "name": "python3"
  },
  "language_info": {
   "codemirror_mode": {
    "name": "ipython",
    "version": 3
   },
   "file_extension": ".py",
   "mimetype": "text/x-python",
   "name": "python",
   "nbconvert_exporter": "python",
   "pygments_lexer": "ipython3",
   "version": "3.13.5"
  }
 },
 "nbformat": 4,
 "nbformat_minor": 5
}
