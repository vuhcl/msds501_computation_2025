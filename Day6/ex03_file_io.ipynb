{
 "cells": [
  {
   "attachments": {},
   "cell_type": "markdown",
   "id": "ab92651a-0f5c-4ff6-8082-de74222e4eb1",
   "metadata": {},
   "source": [
    "## File I/O and Output Formatting\n",
    "\n",
    "- From epa_air_quality.csv which includes date, site_id, pm10, and aqi values, return ‘date, site_id : pm10’ for records where pm10 is greater than 200.\n",
    "\n",
    "- Extra : Sort the output by pm10 in descending order."
   ]
  },
  {
   "cell_type": "code",
   "execution_count": 5,
   "id": "f66e5a70-51d1-413d-9cc1-36738ebca44b",
   "metadata": {},
   "outputs": [],
   "source": [
    "file_name = '../Data/epa_air_quality.csv'"
   ]
  },
  {
   "cell_type": "code",
   "execution_count": 37,
   "id": "13abcc44-0e93-4c06-bd73-f7456f774069",
   "metadata": {},
   "outputs": [],
   "source": [
    "def third_elem(x):\n",
    "    ''' Return an integer value of the third element'''\n",
    "    return int(x[2])"
   ]
  },
  {
   "cell_type": "code",
   "execution_count": 38,
   "id": "a31a9102-30cb-470a-a9c6-5101950d732c",
   "metadata": {},
   "outputs": [
    {
     "name": "stdout",
     "output_type": "stream",
     "text": [
      "2020-02-02, 60270022 : 562\n",
      "2020-02-02, 60270025 : 537\n",
      "2020-02-02, 60270030 : 361\n",
      "2020-02-02, 60271003 : 253\n",
      "2020-08-22, 60190500 : 212\n",
      "2020-02-02, 60270028 : 212\n",
      "2020-08-21, 60190500 : 211\n"
     ]
    }
   ],
   "source": [
    "with open(file_name, 'r') as f:\n",
    "    output =  [line.strip().split(',') for line in f.readlines()\n",
    "               if line.split(',')[2].isnumeric() and int(line.split(',')[2]) > 200]\n",
    "    output.sort(key=third_elem, reverse=True)\n",
    "    for elem in output:\n",
    "        print(f'{elem[0]}, {elem[1]} : {elem[2]}')"
   ]
  },
  {
   "cell_type": "code",
   "execution_count": null,
   "id": "1d3058f5",
   "metadata": {},
   "outputs": [],
   "source": []
  }
 ],
 "metadata": {
  "kernelspec": {
   "display_name": "Python 3 (ipykernel)",
   "language": "python",
   "name": "python3"
  },
  "language_info": {
   "codemirror_mode": {
    "name": "ipython",
    "version": 3
   },
   "file_extension": ".py",
   "mimetype": "text/x-python",
   "name": "python",
   "nbconvert_exporter": "python",
   "pygments_lexer": "ipython3",
   "version": "3.11.3"
  }
 },
 "nbformat": 4,
 "nbformat_minor": 5
}
