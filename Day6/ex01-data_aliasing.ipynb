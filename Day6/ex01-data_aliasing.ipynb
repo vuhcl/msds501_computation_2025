{
 "cells": [
  {
   "attachments": {},
   "cell_type": "markdown",
   "id": "2a98d0b4-168f-48ce-8267-29b54a8cf69f",
   "metadata": {},
   "source": [
    "## Salary Increase\n",
    "After completing each year, employees earn certain increase from the last year''s salary.\n",
    "For instance, increase_scale_sequence = [0.01, 0.02, 0.03] means that on one''s second year the person will get 1% increase from the base salary.\n",
    "On the third year, one will get 2% increase from the second year.\n",
    "\n",
    "One developed a function called yearly_salary() as below.\n",
    "What is the mistake the developer made and how would you fix it?"
   ]
  },
  {
   "cell_type": "code",
   "execution_count": 6,
   "id": "b746b939-0030-425a-aa42-a7801a193c9d",
   "metadata": {},
   "outputs": [],
   "source": [
    "def yearly_salary(increase_scale_sequence, year, base):\n",
    "    total_inc = list()\n",
    "    for i in range(len(increase_scale_sequence)):\n",
    "        if i == 0:\n",
    "            increase_scale_sequence[i] = increase_scale_sequence[i] + 1\n",
    "        else:\n",
    "            increase_scale_sequence[i] = increase_scale_sequence[i-1] \\\n",
    "                                       * (increase_scale_sequence[i] + 1)\n",
    "    return increase_scale_sequence[year-2] * base"
   ]
  },
  {
   "cell_type": "code",
   "execution_count": 7,
   "id": "5c5a5cee-3040-457c-9769-1b409c6b0610",
   "metadata": {},
   "outputs": [
    {
     "data": {
      "text/plain": [
       "123.624"
      ]
     },
     "execution_count": 7,
     "metadata": {},
     "output_type": "execute_result"
    }
   ],
   "source": [
    "increase_scale_sequence = [0.01, 0.02, 0.03]\n",
    "yearly_salary(increase_scale_sequence, 3, 120)"
   ]
  },
  {
   "cell_type": "code",
   "execution_count": 8,
   "id": "3235bcf1-3aa1-4386-95ee-714bfb32dd4c",
   "metadata": {},
   "outputs": [
    {
     "data": {
      "text/plain": [
       "[1.01, 1.0302, 1.061106]"
      ]
     },
     "execution_count": 8,
     "metadata": {},
     "output_type": "execute_result"
    }
   ],
   "source": [
    "increase_scale_sequence"
   ]
  },
  {
   "attachments": {},
   "cell_type": "markdown",
   "id": "8f861902-2715-49be-bece-1c28c40e168f",
   "metadata": {
    "tags": []
   },
   "source": [
    "## How would you solve it?"
   ]
  },
  {
   "cell_type": "code",
   "execution_count": null,
   "id": "1ce36c42",
   "metadata": {},
   "outputs": [],
   "source": [
    "def yearly_salary(increase_scale_sequence, year, base):\n",
    "    salary_scale = increase_scale_sequence.copy()\n",
    "    for i in range(len(salary_scale)):\n",
    "        if i == 0:\n",
    "            salary_scale[i] = salary_scale[i] + 1\n",
    "        else:\n",
    "            salary_scale[i] = salary_scale[i-1] * (salary_scale[i] + 1)\n",
    "    return salary_scale[year-2] * base"
   ]
  },
  {
   "cell_type": "code",
   "execution_count": 9,
   "id": "54154ee8-f0fc-47ab-8367-b4a6c5e419e0",
   "metadata": {},
   "outputs": [],
   "source": [
    "def yearly_salary(increase_scale_sequence, year, base):\n",
    "    print(year)\n",
    "    if year == 0:\n",
    "        return base\n",
    "    else:\n",
    "        total_inc = 1\n",
    "        new_salary = base\n",
    "        for i in range(0, year - 1):\n",
    "            #increase_scale_sequence[i] = 1\n",
    "            new_salary = new_salary * (1 + increase_scale_sequence[i])\n",
    "        return new_salary"
   ]
  },
  {
   "cell_type": "code",
   "execution_count": 10,
   "id": "0d97556b-bf18-4260-8696-59291429ec68",
   "metadata": {},
   "outputs": [
    {
     "name": "stdout",
     "output_type": "stream",
     "text": [
      "3\n"
     ]
    },
    {
     "data": {
      "text/plain": [
       "123.62400000000001"
      ]
     },
     "execution_count": 10,
     "metadata": {},
     "output_type": "execute_result"
    }
   ],
   "source": [
    "increase_scale_sequence = (0.01, 0.02, 0.03)\n",
    "yearly_salary(increase_scale_sequence, 3, 120)"
   ]
  },
  {
   "cell_type": "code",
   "execution_count": 11,
   "id": "0c62cf0d-3f31-4beb-83fa-ef8e06cad4f7",
   "metadata": {},
   "outputs": [
    {
     "data": {
      "text/plain": [
       "(0.01, 0.02, 0.03)"
      ]
     },
     "execution_count": 11,
     "metadata": {},
     "output_type": "execute_result"
    }
   ],
   "source": [
    "increase_scale_sequence"
   ]
  },
  {
   "cell_type": "code",
   "execution_count": null,
   "id": "d6386fee-241b-46c6-88f6-795361f60e49",
   "metadata": {},
   "outputs": [],
   "source": []
  }
 ],
 "metadata": {
  "kernelspec": {
   "display_name": "Python 3 (ipykernel)",
   "language": "python",
   "name": "python3"
  },
  "language_info": {
   "codemirror_mode": {
    "name": "ipython",
    "version": 3
   },
   "file_extension": ".py",
   "mimetype": "text/x-python",
   "name": "python",
   "nbconvert_exporter": "python",
   "pygments_lexer": "ipython3",
   "version": "3.11.3"
  }
 },
 "nbformat": 4,
 "nbformat_minor": 5
}
