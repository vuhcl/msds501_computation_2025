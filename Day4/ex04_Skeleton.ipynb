{
 "cells": [
  {
   "cell_type": "markdown",
   "id": "610bcba6",
   "metadata": {},
   "source": [
    "\n",
    "- Using ```input(\"message\")``` take a user input with a message \"`Enter a positive number (0 to stop): `\"\n",
    "- If it is a prime number, print \"`user_input is a prime number`\"\n",
    "- If it is not a prime number, print \"`user_input is not a prime number`\"\n",
    "- Repeat this until the user enters 0\n",
    "- Make sure the user input is in an expected type\n"
   ]
  },
  {
   "cell_type": "code",
   "execution_count": null,
   "id": "87335bab",
   "metadata": {},
   "outputs": [],
   "source": []
  },
  {
   "cell_type": "code",
   "execution_count": 9,
   "id": "1f16c75d",
   "metadata": {},
   "outputs": [],
   "source": [
    "def prime_number(n: int) -> bool:\n",
    "    if n < 2:\n",
    "        return False \n",
    "    for i in range(2, n):\n",
    "        if (n % i) == 0:\n",
    "            return False\n",
    "    return True"
   ]
  },
  {
   "cell_type": "code",
   "execution_count": 12,
   "id": "885e5fc5",
   "metadata": {},
   "outputs": [
    {
     "name": "stdout",
     "output_type": "stream",
     "text": [
      "user_input is not a prime number\n",
      "user_input is a prime number\n",
      "user_input is not a prime number\n",
      "user_input is not a prime number\n",
      "user_input is not a prime number\n",
      "user_input is not a prime number\n",
      "user_input is not a prime number\n",
      "user_input is not a prime number\n",
      "user_input is not a prime number\n",
      "user_input is not a prime number\n",
      "user_input is a prime number\n",
      "user_input is a prime number\n"
     ]
    }
   ],
   "source": [
    "while True:\n",
    "    n = int(input(\"Enter a positive number (0 to stop): \"))\n",
    "    try:\n",
    "        if n == 0:\n",
    "            break\n",
    "        if prime_number(n):\n",
    "            print(\"user_input is a prime number\")\n",
    "        else:\n",
    "            print(\"user_input is not a prime number\")\n",
    "    except TypeError:\n",
    "        print(\"Please input an integer\")"
   ]
  },
  {
   "cell_type": "code",
   "execution_count": null,
   "id": "828016e9",
   "metadata": {},
   "outputs": [],
   "source": []
  }
 ],
 "metadata": {
  "kernelspec": {
   "display_name": "base",
   "language": "python",
   "name": "python3"
  },
  "language_info": {
   "codemirror_mode": {
    "name": "ipython",
    "version": 3
   },
   "file_extension": ".py",
   "mimetype": "text/x-python",
   "name": "python",
   "nbconvert_exporter": "python",
   "pygments_lexer": "ipython3",
   "version": "3.13.5"
  }
 },
 "nbformat": 4,
 "nbformat_minor": 5
}
